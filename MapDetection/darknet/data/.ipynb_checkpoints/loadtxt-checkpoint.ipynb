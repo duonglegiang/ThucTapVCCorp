{
 "cells": [
  {
   "cell_type": "code",
   "execution_count": 28,
   "metadata": {},
   "outputs": [],
   "source": [
    "import numpy as np\n",
    "import pandas as pd\n",
    "from sklearn.model_selection import *\n",
    "from sklearn import *\n",
    "import matplotlib as mpl\n",
    "import matplotlib.pyplot as plt\n",
    "import seaborn as sns\n",
    "from sklearn.preprocessing import StandardScaler\n",
    "from sklearn.decomposition import PCA\n",
    "from sklearn.linear_model import LogisticRegression\n",
    "from sklearn.pipeline import Pipeline\n",
    "from sklearn.preprocessing import *\n",
    "from sklearn import *\n",
    "from sklearn.metrics import *\n",
    "# from mnist import *\n",
    "from pandas import *\n",
    "from datetime import date\n",
    "from collections import namedtuple\n",
    "import cv2\n",
    "from sklearn.feature_extraction.text import *\n",
    "from sklearn.naive_bayes import *\n",
    "from sklearn.metrics import *\n",
    "from scipy import *\n",
    "from sklearn.metrics import confusion_matrix\n",
    "import itertools\n",
    "import os\n",
    "from keras.utils.np_utils import * \n",
    "from keras.models import *\n",
    "from keras.layers import *\n",
    "from keras.optimizers import *\n",
    "from keras.preprocessing.image import *\n",
    "from keras.callbacks import *\n",
    "from skimage.filters import threshold_local\n",
    "from tensorflow.keras import *\n",
    "from tensorflow.keras.layers import *\n",
    "\n",
    "import tensorflow as tf"
   ]
  },
  {
   "cell_type": "code",
   "execution_count": 29,
   "metadata": {},
   "outputs": [],
   "source": [
    "homePath_train = \"/home/giang/Desktop/darknet/data/images/\""
   ]
  },
  {
   "cell_type": "code",
   "execution_count": 30,
   "metadata": {},
   "outputs": [],
   "source": [
    "# fileout = open('/home/giang/Desktop/datas_remove.txt')\n",
    "# ii = 0\n",
    "# data = fileout.read()\n",
    "# lines = data.split('\\n')\n",
    "# N = 192\n",
    "# for i in range(0, N+1):\n",
    "#     line = lines[i]\n",
    "#     parts = line.split()\n",
    "#     img = str(parts[0])\n",
    "# #     print(img)\n",
    "#     img = img.replace(\".txt\", \".jpg\")\n",
    "#     try:\n",
    "#         os.remove(img)\n",
    "#     except:\n",
    "#         print(img)\n",
    "#         ii += 1\n",
    "# print(ii)"
   ]
  },
  {
   "cell_type": "code",
   "execution_count": 31,
   "metadata": {},
   "outputs": [
    {
     "name": "stdout",
     "output_type": "stream",
     "text": [
      "/home/giang/Desktop/darknet/data/images/\n"
     ]
    }
   ],
   "source": [
    "imgPath = homePath_train\n",
    "print(imgPath)\n",
    "imgFiles = os.listdir(imgPath)\n",
    "#         kk = 0\n",
    "for image in imgFiles:\n",
    "    image = image.replace(\".jpg\", \"\")\n",
    "    fileout = open('/home/giang/Desktop/darknet/data/labels/' + image + '.txt', 'a')\n",
    "    fileout.write(\"0 0.5 0.5 0.995 0.995\")\n",
    "    fileout.close()"
   ]
  },
  {
   "cell_type": "code",
   "execution_count": 32,
   "metadata": {},
   "outputs": [
    {
     "name": "stdout",
     "output_type": "stream",
     "text": [
      "/home/giang/Desktop/darknet/data/images/\n"
     ]
    }
   ],
   "source": [
    "# data=[]\n",
    "# label=[]\n",
    "# fileout = open('/home/giang/Desktop/darknet/train.txt', 'a')\n",
    "# imgPath = homePath_train\n",
    "# print(imgPath)\n",
    "# imgFiles = os.listdir(imgPath)\n",
    "# #         kk = 0\n",
    "# for image in imgFiles:\n",
    "#     fileout.write(homePath_train + image + \"\\n\")\n",
    "\n",
    "# fileout.close()\n",
    "    "
   ]
  },
  {
   "cell_type": "code",
   "execution_count": 33,
   "metadata": {},
   "outputs": [
    {
     "name": "stdout",
     "output_type": "stream",
     "text": [
      "/home/giang/Desktop/darknet/data/images_test/\n"
     ]
    }
   ],
   "source": [
    "# data=[]\n",
    "# label=[]\n",
    "# homePath_train2 = \"/home/giang/Desktop/darknet/data/images_test/\"\n",
    "# fileout = open('/home/giang/Desktop/darknet/val.txt', 'a')\n",
    "# imgPath = homePath_train2\n",
    "# print(imgPath)\n",
    "# imgFiles = os.listdir(imgPath)\n",
    "# #         kk = 0\n",
    "# for image in imgFiles:\n",
    "#     fileout.write(homePath_train + image + \"\\n\")\n",
    "\n",
    "\n",
    "# fileout.close()\n",
    "    "
   ]
  },
  {
   "cell_type": "code",
   "execution_count": null,
   "metadata": {},
   "outputs": [],
   "source": []
  }
 ],
 "metadata": {
  "kernelspec": {
   "display_name": "Python 3",
   "language": "python",
   "name": "python3"
  },
  "language_info": {
   "codemirror_mode": {
    "name": "ipython",
    "version": 3
   },
   "file_extension": ".py",
   "mimetype": "text/x-python",
   "name": "python",
   "nbconvert_exporter": "python",
   "pygments_lexer": "ipython3",
   "version": "3.8.2"
  }
 },
 "nbformat": 4,
 "nbformat_minor": 4
}
