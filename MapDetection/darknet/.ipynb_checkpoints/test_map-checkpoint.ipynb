{
 "cells": [
  {
   "cell_type": "code",
   "execution_count": 1,
   "metadata": {},
   "outputs": [],
   "source": [
    "import os\n"
   ]
  },
  {
   "cell_type": "code",
   "execution_count": 2,
   "metadata": {},
   "outputs": [],
   "source": [
    "homePath = \"/home/giang/Desktop/darknet_gg2/darknet/testmap/\""
   ]
  },
  {
   "cell_type": "code",
   "execution_count": 3,
   "metadata": {},
   "outputs": [],
   "source": [
    "# python3 darknet_images.py --input anhtu.jpg --weights yolov4-tiny_6000.weights --config_file cfg/yolov4-tiny.cfg --data_file data/yolo.data --save_labels"
   ]
  },
  {
   "cell_type": "code",
   "execution_count": null,
   "metadata": {},
   "outputs": [
    {
     "name": "stdout",
     "output_type": "stream",
     "text": [
      "./darknet detector test data/yolo.data cfg/yolov4-tiny.cfg yolov4-tiny_60001.weights testmap/images73.jpg\n",
      "./darknet detector test data/yolo.data cfg/yolov4-tiny.cfg yolov4-tiny_60001.weights testmap/images318.jpg\n",
      "./darknet detector test data/yolo.data cfg/yolov4-tiny.cfg yolov4-tiny_60001.weights testmap/images225.jpg\n",
      "./darknet detector test data/yolo.data cfg/yolov4-tiny.cfg yolov4-tiny_60001.weights testmap/images176.jpg\n",
      "./darknet detector test data/yolo.data cfg/yolov4-tiny.cfg yolov4-tiny_60001.weights testmap/images251.jpg\n",
      "./darknet detector test data/yolo.data cfg/yolov4-tiny.cfg yolov4-tiny_60001.weights testmap/images135.jpg\n",
      "./darknet detector test data/yolo.data cfg/yolov4-tiny.cfg yolov4-tiny_60001.weights testmap/images300.jpg\n",
      "./darknet detector test data/yolo.data cfg/yolov4-tiny.cfg yolov4-tiny_60001.weights testmap/191014_southchinasea_twitter_1.jpg\n",
      "./darknet detector test data/yolo.data cfg/yolov4-tiny.cfg yolov4-tiny_60001.weights testmap/images54.jpg\n",
      "./darknet detector test data/yolo.data cfg/yolov4-tiny.cfg yolov4-tiny_60001.weights testmap/images207.jpg\n",
      "./darknet detector test data/yolo.data cfg/yolov4-tiny.cfg yolov4-tiny_60001.weights testmap/images212.jpg\n",
      "./darknet detector test data/yolo.data cfg/yolov4-tiny.cfg yolov4-tiny_60001.weights testmap/images272.jpg\n",
      "./darknet detector test data/yolo.data cfg/yolov4-tiny.cfg yolov4-tiny_60001.weights testmap/images110.jpg\n",
      "./darknet detector test data/yolo.data cfg/yolov4-tiny.cfg yolov4-tiny_60001.weights testmap/a1_1__gjgz.jpg\n",
      "./darknet detector test data/yolo.data cfg/yolov4-tiny.cfg yolov4-tiny_60001.weights testmap/images211.jpg\n",
      "./darknet detector test data/yolo.data cfg/yolov4-tiny.cfg yolov4-tiny_60001.weights testmap/images306.jpg\n",
      "./darknet detector test data/yolo.data cfg/yolov4-tiny.cfg yolov4-tiny_60001.weights testmap/images215.jpg\n",
      "./darknet detector test data/yolo.data cfg/yolov4-tiny.cfg yolov4-tiny_60001.weights testmap/images309.jpg\n",
      "./darknet detector test data/yolo.data cfg/yolov4-tiny.cfg yolov4-tiny_60001.weights testmap/images254.jpg\n",
      "./darknet detector test data/yolo.data cfg/yolov4-tiny.cfg yolov4-tiny_60001.weights testmap/images269.jpg\n",
      "./darknet detector test data/yolo.data cfg/yolov4-tiny.cfg yolov4-tiny_60001.weights testmap/images46.jpg\n",
      "./darknet detector test data/yolo.data cfg/yolov4-tiny.cfg yolov4-tiny_60001.weights testmap/image.jpeg\n",
      "./darknet detector test data/yolo.data cfg/yolov4-tiny.cfg yolov4-tiny_60001.weights testmap/images311.jpg\n",
      "./darknet detector test data/yolo.data cfg/yolov4-tiny.cfg yolov4-tiny_60001.weights testmap/1-319967038e43de54007f799829fe9d77.jpg\n",
      "./darknet detector test data/yolo.data cfg/yolov4-tiny.cfg yolov4-tiny_60001.weights testmap/images292.jpg\n",
      "./darknet detector test data/yolo.data cfg/yolov4-tiny.cfg yolov4-tiny_60001.weights testmap/images136.jpg\n",
      "./darknet detector test data/yolo.data cfg/yolov4-tiny.cfg yolov4-tiny_60001.weights testmap/images6.jpg\n",
      "./darknet detector test data/yolo.data cfg/yolov4-tiny.cfg yolov4-tiny_60001.weights testmap/images94.jpg\n",
      "./darknet detector test data/yolo.data cfg/yolov4-tiny.cfg yolov4-tiny_60001.weights testmap/images59.jpg\n",
      "./darknet detector test data/yolo.data cfg/yolov4-tiny.cfg yolov4-tiny_60001.weights testmap/images162.jpg\n",
      "./darknet detector test data/yolo.data cfg/yolov4-tiny.cfg yolov4-tiny_60001.weights testmap/479_bill-gate-ung-ho-duong-luoi-bo-3.jpg\n",
      "./darknet detector test data/yolo.data cfg/yolov4-tiny.cfg yolov4-tiny_60001.weights testmap/5327_9d616d03f4431d1d4452.jpg\n",
      "./darknet detector test data/yolo.data cfg/yolov4-tiny.cfg yolov4-tiny_60001.weights testmap/images146.jpg\n",
      "./darknet detector test data/yolo.data cfg/yolov4-tiny.cfg yolov4-tiny_60001.weights testmap/images170.jpg\n",
      "./darknet detector test data/yolo.data cfg/yolov4-tiny.cfg yolov4-tiny_60001.weights testmap/images.jpg\n",
      "./darknet detector test data/yolo.data cfg/yolov4-tiny.cfg yolov4-tiny_60001.weights testmap/images25.jpg\n",
      "./darknet detector test data/yolo.data cfg/yolov4-tiny.cfg yolov4-tiny_60001.weights testmap/images114.jpg\n",
      "./darknet detector test data/yolo.data cfg/yolov4-tiny.cfg yolov4-tiny_60001.weights testmap/images206.jpg\n",
      "./darknet detector test data/yolo.data cfg/yolov4-tiny.cfg yolov4-tiny_60001.weights testmap/images2.jpg\n",
      "./darknet detector test data/yolo.data cfg/yolov4-tiny.cfg yolov4-tiny_60001.weights testmap/images283.jpg\n",
      "./darknet detector test data/yolo.data cfg/yolov4-tiny.cfg yolov4-tiny_60001.weights testmap/images20.jpg\n",
      "./darknet detector test data/yolo.data cfg/yolov4-tiny.cfg yolov4-tiny_60001.weights testmap/images67.jpg\n",
      "./darknet detector test data/yolo.data cfg/yolov4-tiny.cfg yolov4-tiny_60001.weights testmap/vi-khuan_phqy.jpg\n",
      "./darknet detector test data/yolo.data cfg/yolov4-tiny.cfg yolov4-tiny_60001.weights testmap/images246.jpg\n",
      "./darknet detector test data/yolo.data cfg/yolov4-tiny.cfg yolov4-tiny_60001.weights testmap/images44.jpg\n",
      "./darknet detector test data/yolo.data cfg/yolov4-tiny.cfg yolov4-tiny_60001.weights testmap/images87.jpg\n",
      "./darknet detector test data/yolo.data cfg/yolov4-tiny.cfg yolov4-tiny_60001.weights testmap/images286.jpg\n",
      "./darknet detector test data/yolo.data cfg/yolov4-tiny.cfg yolov4-tiny_60001.weights testmap/dien-thoai-xach-tay_uvxx.jpg\n"
     ]
    }
   ],
   "source": [
    "imgFiles = os.listdir(homePath)\n",
    "\n",
    "for image in imgFiles:\n",
    "    string = \"python3 darknet_images.py --input \" + image + \" --weights yolov4-tiny_6000.weights --config_file cfg/yolov4-tiny.cfg --data_file data/yolo.data --save_labels\"\n",
    "    print(string)\n",
    "    os.system(string)"
   ]
  },
  {
   "cell_type": "code",
   "execution_count": null,
   "metadata": {},
   "outputs": [],
   "source": []
  },
  {
   "cell_type": "code",
   "execution_count": null,
   "metadata": {},
   "outputs": [],
   "source": []
  },
  {
   "cell_type": "code",
   "execution_count": null,
   "metadata": {},
   "outputs": [],
   "source": []
  },
  {
   "cell_type": "code",
   "execution_count": null,
   "metadata": {},
   "outputs": [],
   "source": []
  }
 ],
 "metadata": {
  "kernelspec": {
   "display_name": "Python 3.8.2 64-bit",
   "language": "python",
   "name": "python38264bita6f50e50d0ae43c9b91bb5633cee2fdb"
  },
  "language_info": {
   "codemirror_mode": {
    "name": "ipython",
    "version": 3
   },
   "file_extension": ".py",
   "mimetype": "text/x-python",
   "name": "python",
   "nbconvert_exporter": "python",
   "pygments_lexer": "ipython3",
   "version": "3.8.2"
  }
 },
 "nbformat": 4,
 "nbformat_minor": 4
}
