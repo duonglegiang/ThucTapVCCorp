{
 "cells": [
  {
   "cell_type": "code",
   "execution_count": 1,
   "metadata": {},
   "outputs": [],
   "source": [
    "import os\n",
    "import numpy as np\n",
    "\n",
    "#Tách 200 ảnh ra làm tập validation"
   ]
  },
  {
   "cell_type": "code",
   "execution_count": 2,
   "metadata": {},
   "outputs": [],
   "source": [
    "lst_files = os.listdir(\"data/images/\")\n",
    "lst_images = []"
   ]
  },
  {
   "cell_type": "code",
   "execution_count": 3,
   "metadata": {},
   "outputs": [],
   "source": [
    "for file in lst_files:\n",
    "    if \".txt\" not in file:\n",
    "        lst_images.append(file)\n",
    "#         print(file)\n",
    "        \n",
    "random_idx = np.random.randint(0, len(lst_images), 1500)\n",
    "#Tạo file train.txt được đặt trong thư mục darknet/data\n",
    "with open(\"data/train.txt\",\"a\") as f:\n",
    "    for idx in range(len(lst_images)):\n",
    "        if idx not in random_idx:\n",
    "            f.write(\"data/images/\"+lst_images[idx]+\"\\n\")\n",
    "            \n",
    "#Tạo file valid.txt được đặt trong thư mục darknet/data\n",
    "with open(\"data/val.txt\",\"a\") as f:\n",
    "    for idx in random_idx:\n",
    "        f.write(\"data/images/\"+lst_images[idx]+\"\\n\")"
   ]
  },
  {
   "cell_type": "code",
   "execution_count": 5,
   "metadata": {},
   "outputs": [
    {
     "name": "stdout",
     "output_type": "stream",
     "text": [
      "data/images/qshzhyynqfpecfucfgdz.jpg\n",
      "1\n"
     ]
    }
   ],
   "source": [
    "# fileout = open(\"datas_remove.txt\")\n",
    "# ii = 0\n",
    "# data = fileout.read()\n",
    "# lines = data.split('\\n')\n",
    "# N = 63\n",
    "# for i in range(0, N+1):\n",
    "#     line = lines[i]\n",
    "#     parts = line.split()\n",
    "#     img = str(parts[0])\n",
    "#     label_img = \"data/labels/\" + img\n",
    "# #     print(img)\n",
    "#     img = img.replace(\".txt\", \".jpg\")\n",
    "#     img = \"data/images/\" + img\n",
    "    \n",
    "#     try:\n",
    "#         os.remove(img)\n",
    "#         os.remove(label_img)\n",
    "#     except:\n",
    "#         print(img)\n",
    "#         ii += 1\n",
    "# print(ii)"
   ]
  },
  {
   "cell_type": "code",
   "execution_count": null,
   "metadata": {},
   "outputs": [],
   "source": []
  }
 ],
 "metadata": {
  "kernelspec": {
   "display_name": "Python 3",
   "language": "python",
   "name": "python3"
  },
  "language_info": {
   "codemirror_mode": {
    "name": "ipython",
    "version": 3
   },
   "file_extension": ".py",
   "mimetype": "text/x-python",
   "name": "python",
   "nbconvert_exporter": "python",
   "pygments_lexer": "ipython3",
   "version": "3.8.2"
  }
 },
 "nbformat": 4,
 "nbformat_minor": 4
}
