{
 "cells": [
  {
   "cell_type": "code",
   "execution_count": 1,
   "metadata": {},
   "outputs": [],
   "source": [
    "import os\n"
   ]
  },
  {
   "cell_type": "code",
   "execution_count": 2,
   "metadata": {},
   "outputs": [],
   "source": [
    "homePath = \"/home/giang/Desktop/darknet_gg2/darknet/testmap/\""
   ]
  },
  {
   "cell_type": "code",
   "execution_count": 3,
   "metadata": {},
   "outputs": [],
   "source": [
    "# python3 darknet_images.py --input anhtu.jpg --weights yolov4-tiny_6000.weights --config_file cfg/yolov4-tiny.cfg --data_file data/yolo.data --save_labels"
   ]
  },
  {
   "cell_type": "code",
   "execution_count": 4,
   "metadata": {},
   "outputs": [
    {
     "name": "stdout",
     "output_type": "stream",
     "text": [
      "python3 darknet_images.py --input images73.jpg --weights yolov4-tiny_6000.weights --config_file cfg/yolov4-tiny.cfg --data_file data/yolo.data --save_labels\n",
      "python3 darknet_images.py --input images318.jpg --weights yolov4-tiny_6000.weights --config_file cfg/yolov4-tiny.cfg --data_file data/yolo.data --save_labels\n",
      "python3 darknet_images.py --input images225.jpg --weights yolov4-tiny_6000.weights --config_file cfg/yolov4-tiny.cfg --data_file data/yolo.data --save_labels\n",
      "python3 darknet_images.py --input images176.jpg --weights yolov4-tiny_6000.weights --config_file cfg/yolov4-tiny.cfg --data_file data/yolo.data --save_labels\n",
      "python3 darknet_images.py --input images251.jpg --weights yolov4-tiny_6000.weights --config_file cfg/yolov4-tiny.cfg --data_file data/yolo.data --save_labels\n",
      "python3 darknet_images.py --input images135.jpg --weights yolov4-tiny_6000.weights --config_file cfg/yolov4-tiny.cfg --data_file data/yolo.data --save_labels\n",
      "python3 darknet_images.py --input images300.jpg --weights yolov4-tiny_6000.weights --config_file cfg/yolov4-tiny.cfg --data_file data/yolo.data --save_labels\n",
      "python3 darknet_images.py --input 191014_southchinasea_twitter_1.jpg --weights yolov4-tiny_6000.weights --config_file cfg/yolov4-tiny.cfg --data_file data/yolo.data --save_labels\n",
      "python3 darknet_images.py --input images54.jpg --weights yolov4-tiny_6000.weights --config_file cfg/yolov4-tiny.cfg --data_file data/yolo.data --save_labels\n",
      "python3 darknet_images.py --input images207.jpg --weights yolov4-tiny_6000.weights --config_file cfg/yolov4-tiny.cfg --data_file data/yolo.data --save_labels\n",
      "python3 darknet_images.py --input images212.jpg --weights yolov4-tiny_6000.weights --config_file cfg/yolov4-tiny.cfg --data_file data/yolo.data --save_labels\n",
      "python3 darknet_images.py --input images272.jpg --weights yolov4-tiny_6000.weights --config_file cfg/yolov4-tiny.cfg --data_file data/yolo.data --save_labels\n",
      "python3 darknet_images.py --input images110.jpg --weights yolov4-tiny_6000.weights --config_file cfg/yolov4-tiny.cfg --data_file data/yolo.data --save_labels\n",
      "python3 darknet_images.py --input a1_1__gjgz.jpg --weights yolov4-tiny_6000.weights --config_file cfg/yolov4-tiny.cfg --data_file data/yolo.data --save_labels\n",
      "python3 darknet_images.py --input images211.jpg --weights yolov4-tiny_6000.weights --config_file cfg/yolov4-tiny.cfg --data_file data/yolo.data --save_labels\n",
      "python3 darknet_images.py --input images306.jpg --weights yolov4-tiny_6000.weights --config_file cfg/yolov4-tiny.cfg --data_file data/yolo.data --save_labels\n",
      "python3 darknet_images.py --input images215.jpg --weights yolov4-tiny_6000.weights --config_file cfg/yolov4-tiny.cfg --data_file data/yolo.data --save_labels\n",
      "python3 darknet_images.py --input images309.jpg --weights yolov4-tiny_6000.weights --config_file cfg/yolov4-tiny.cfg --data_file data/yolo.data --save_labels\n",
      "python3 darknet_images.py --input images254.jpg --weights yolov4-tiny_6000.weights --config_file cfg/yolov4-tiny.cfg --data_file data/yolo.data --save_labels\n",
      "python3 darknet_images.py --input images269.jpg --weights yolov4-tiny_6000.weights --config_file cfg/yolov4-tiny.cfg --data_file data/yolo.data --save_labels\n",
      "python3 darknet_images.py --input images46.jpg --weights yolov4-tiny_6000.weights --config_file cfg/yolov4-tiny.cfg --data_file data/yolo.data --save_labels\n",
      "python3 darknet_images.py --input image.jpeg --weights yolov4-tiny_6000.weights --config_file cfg/yolov4-tiny.cfg --data_file data/yolo.data --save_labels\n",
      "python3 darknet_images.py --input images311.jpg --weights yolov4-tiny_6000.weights --config_file cfg/yolov4-tiny.cfg --data_file data/yolo.data --save_labels\n",
      "python3 darknet_images.py --input 1-319967038e43de54007f799829fe9d77.jpg --weights yolov4-tiny_6000.weights --config_file cfg/yolov4-tiny.cfg --data_file data/yolo.data --save_labels\n",
      "python3 darknet_images.py --input images292.jpg --weights yolov4-tiny_6000.weights --config_file cfg/yolov4-tiny.cfg --data_file data/yolo.data --save_labels\n",
      "python3 darknet_images.py --input images136.jpg --weights yolov4-tiny_6000.weights --config_file cfg/yolov4-tiny.cfg --data_file data/yolo.data --save_labels\n",
      "python3 darknet_images.py --input images6.jpg --weights yolov4-tiny_6000.weights --config_file cfg/yolov4-tiny.cfg --data_file data/yolo.data --save_labels\n",
      "python3 darknet_images.py --input images94.jpg --weights yolov4-tiny_6000.weights --config_file cfg/yolov4-tiny.cfg --data_file data/yolo.data --save_labels\n",
      "python3 darknet_images.py --input images59.jpg --weights yolov4-tiny_6000.weights --config_file cfg/yolov4-tiny.cfg --data_file data/yolo.data --save_labels\n",
      "python3 darknet_images.py --input images162.jpg --weights yolov4-tiny_6000.weights --config_file cfg/yolov4-tiny.cfg --data_file data/yolo.data --save_labels\n",
      "python3 darknet_images.py --input 479_bill-gate-ung-ho-duong-luoi-bo-3.jpg --weights yolov4-tiny_6000.weights --config_file cfg/yolov4-tiny.cfg --data_file data/yolo.data --save_labels\n",
      "python3 darknet_images.py --input 5327_9d616d03f4431d1d4452.jpg --weights yolov4-tiny_6000.weights --config_file cfg/yolov4-tiny.cfg --data_file data/yolo.data --save_labels\n",
      "python3 darknet_images.py --input images146.jpg --weights yolov4-tiny_6000.weights --config_file cfg/yolov4-tiny.cfg --data_file data/yolo.data --save_labels\n",
      "python3 darknet_images.py --input images170.jpg --weights yolov4-tiny_6000.weights --config_file cfg/yolov4-tiny.cfg --data_file data/yolo.data --save_labels\n",
      "python3 darknet_images.py --input images.jpg --weights yolov4-tiny_6000.weights --config_file cfg/yolov4-tiny.cfg --data_file data/yolo.data --save_labels\n",
      "python3 darknet_images.py --input images25.jpg --weights yolov4-tiny_6000.weights --config_file cfg/yolov4-tiny.cfg --data_file data/yolo.data --save_labels\n",
      "python3 darknet_images.py --input images114.jpg --weights yolov4-tiny_6000.weights --config_file cfg/yolov4-tiny.cfg --data_file data/yolo.data --save_labels\n",
      "python3 darknet_images.py --input images206.jpg --weights yolov4-tiny_6000.weights --config_file cfg/yolov4-tiny.cfg --data_file data/yolo.data --save_labels\n",
      "python3 darknet_images.py --input images2.jpg --weights yolov4-tiny_6000.weights --config_file cfg/yolov4-tiny.cfg --data_file data/yolo.data --save_labels\n",
      "python3 darknet_images.py --input images283.jpg --weights yolov4-tiny_6000.weights --config_file cfg/yolov4-tiny.cfg --data_file data/yolo.data --save_labels\n",
      "python3 darknet_images.py --input images20.jpg --weights yolov4-tiny_6000.weights --config_file cfg/yolov4-tiny.cfg --data_file data/yolo.data --save_labels\n",
      "python3 darknet_images.py --input images67.jpg --weights yolov4-tiny_6000.weights --config_file cfg/yolov4-tiny.cfg --data_file data/yolo.data --save_labels\n",
      "python3 darknet_images.py --input vi-khuan_phqy.jpg --weights yolov4-tiny_6000.weights --config_file cfg/yolov4-tiny.cfg --data_file data/yolo.data --save_labels\n",
      "python3 darknet_images.py --input images246.jpg --weights yolov4-tiny_6000.weights --config_file cfg/yolov4-tiny.cfg --data_file data/yolo.data --save_labels\n",
      "python3 darknet_images.py --input images44.jpg --weights yolov4-tiny_6000.weights --config_file cfg/yolov4-tiny.cfg --data_file data/yolo.data --save_labels\n",
      "python3 darknet_images.py --input images87.jpg --weights yolov4-tiny_6000.weights --config_file cfg/yolov4-tiny.cfg --data_file data/yolo.data --save_labels\n",
      "python3 darknet_images.py --input images286.jpg --weights yolov4-tiny_6000.weights --config_file cfg/yolov4-tiny.cfg --data_file data/yolo.data --save_labels\n",
      "python3 darknet_images.py --input dien-thoai-xach-tay_uvxx.jpg --weights yolov4-tiny_6000.weights --config_file cfg/yolov4-tiny.cfg --data_file data/yolo.data --save_labels\n",
      "python3 darknet_images.py --input images90.jpg --weights yolov4-tiny_6000.weights --config_file cfg/yolov4-tiny.cfg --data_file data/yolo.data --save_labels\n",
      "python3 darknet_images.py --input images220.jpg --weights yolov4-tiny_6000.weights --config_file cfg/yolov4-tiny.cfg --data_file data/yolo.data --save_labels\n",
      "python3 darknet_images.py --input images293.jpg --weights yolov4-tiny_6000.weights --config_file cfg/yolov4-tiny.cfg --data_file data/yolo.data --save_labels\n",
      "python3 darknet_images.py --input 23_GWBS.png --weights yolov4-tiny_6000.weights --config_file cfg/yolov4-tiny.cfg --data_file data/yolo.data --save_labels\n"
     ]
    },
    {
     "name": "stdout",
     "output_type": "stream",
     "text": [
      "python3 darknet_images.py --input images278.jpg --weights yolov4-tiny_6000.weights --config_file cfg/yolov4-tiny.cfg --data_file data/yolo.data --save_labels\n",
      "python3 darknet_images.py --input images60.jpg --weights yolov4-tiny_6000.weights --config_file cfg/yolov4-tiny.cfg --data_file data/yolo.data --save_labels\n",
      "python3 darknet_images.py --input images111.jpg --weights yolov4-tiny_6000.weights --config_file cfg/yolov4-tiny.cfg --data_file data/yolo.data --save_labels\n",
      "python3 darknet_images.py --input images203.jpg --weights yolov4-tiny_6000.weights --config_file cfg/yolov4-tiny.cfg --data_file data/yolo.data --save_labels\n",
      "python3 darknet_images.py --input images200.jpg --weights yolov4-tiny_6000.weights --config_file cfg/yolov4-tiny.cfg --data_file data/yolo.data --save_labels\n",
      "python3 darknet_images.py --input hang-loat-sao-viet-phan-doi-duong-luoi-bo-cua-trung-quoc_6.jpg --weights yolov4-tiny_6000.weights --config_file cfg/yolov4-tiny.cfg --data_file data/yolo.data --save_labels\n",
      "python3 darknet_images.py --input images298.jpg --weights yolov4-tiny_6000.weights --config_file cfg/yolov4-tiny.cfg --data_file data/yolo.data --save_labels\n",
      "python3 darknet_images.py --input images165.jpg --weights yolov4-tiny_6000.weights --config_file cfg/yolov4-tiny.cfg --data_file data/yolo.data --save_labels\n",
      "python3 darknet_images.py --input images257.jpg --weights yolov4-tiny_6000.weights --config_file cfg/yolov4-tiny.cfg --data_file data/yolo.data --save_labels\n",
      "python3 darknet_images.py --input images26.jpg --weights yolov4-tiny_6000.weights --config_file cfg/yolov4-tiny.cfg --data_file data/yolo.data --save_labels\n",
      "python3 darknet_images.py --input images22.jpg --weights yolov4-tiny_6000.weights --config_file cfg/yolov4-tiny.cfg --data_file data/yolo.data --save_labels\n",
      "python3 darknet_images.py --input images137.jpg --weights yolov4-tiny_6000.weights --config_file cfg/yolov4-tiny.cfg --data_file data/yolo.data --save_labels\n",
      "python3 darknet_images.py --input images253.jpg --weights yolov4-tiny_6000.weights --config_file cfg/yolov4-tiny.cfg --data_file data/yolo.data --save_labels\n",
      "python3 darknet_images.py --input images147.jpg --weights yolov4-tiny_6000.weights --config_file cfg/yolov4-tiny.cfg --data_file data/yolo.data --save_labels\n",
      "python3 darknet_images.py --input images245.jpg --weights yolov4-tiny_6000.weights --config_file cfg/yolov4-tiny.cfg --data_file data/yolo.data --save_labels\n",
      "python3 darknet_images.py --input 9820bba7-888a-4e4c-aef5-759ae1d3ed28.jpg --weights yolov4-tiny_6000.weights --config_file cfg/yolov4-tiny.cfg --data_file data/yolo.data --save_labels\n",
      "python3 darknet_images.py --input images34.jpg --weights yolov4-tiny_6000.weights --config_file cfg/yolov4-tiny.cfg --data_file data/yolo.data --save_labels\n",
      "python3 darknet_images.py --input images204.jpg --weights yolov4-tiny_6000.weights --config_file cfg/yolov4-tiny.cfg --data_file data/yolo.data --save_labels\n",
      "python3 darknet_images.py --input images119.jpg --weights yolov4-tiny_6000.weights --config_file cfg/yolov4-tiny.cfg --data_file data/yolo.data --save_labels\n",
      "python3 darknet_images.py --input images296.jpg --weights yolov4-tiny_6000.weights --config_file cfg/yolov4-tiny.cfg --data_file data/yolo.data --save_labels\n",
      "python3 darknet_images.py --input images143.jpg --weights yolov4-tiny_6000.weights --config_file cfg/yolov4-tiny.cfg --data_file data/yolo.data --save_labels\n",
      "python3 darknet_images.py --input images172.jpg --weights yolov4-tiny_6000.weights --config_file cfg/yolov4-tiny.cfg --data_file data/yolo.data --save_labels\n",
      "python3 darknet_images.py --input images85.jpg --weights yolov4-tiny_6000.weights --config_file cfg/yolov4-tiny.cfg --data_file data/yolo.data --save_labels\n",
      "python3 darknet_images.py --input images52.jpg --weights yolov4-tiny_6000.weights --config_file cfg/yolov4-tiny.cfg --data_file data/yolo.data --save_labels\n",
      "python3 darknet_images.py --input 98147354529599646961267n-39d0.jpg --weights yolov4-tiny_6000.weights --config_file cfg/yolov4-tiny.cfg --data_file data/yolo.data --save_labels\n",
      "python3 darknet_images.py --input images134.jpg --weights yolov4-tiny_6000.weights --config_file cfg/yolov4-tiny.cfg --data_file data/yolo.data --save_labels\n",
      "python3 darknet_images.py --input images62.jpg --weights yolov4-tiny_6000.weights --config_file cfg/yolov4-tiny.cfg --data_file data/yolo.data --save_labels\n",
      "python3 darknet_images.py --input images76.jpg --weights yolov4-tiny_6000.weights --config_file cfg/yolov4-tiny.cfg --data_file data/yolo.data --save_labels\n",
      "python3 darknet_images.py --input luoibotrungquoc.jpg --weights yolov4-tiny_6000.weights --config_file cfg/yolov4-tiny.cfg --data_file data/yolo.data --save_labels\n",
      "python3 darknet_images.py --input images224.jpg --weights yolov4-tiny_6000.weights --config_file cfg/yolov4-tiny.cfg --data_file data/yolo.data --save_labels\n",
      "python3 darknet_images.py --input images109.jpg --weights yolov4-tiny_6000.weights --config_file cfg/yolov4-tiny.cfg --data_file data/yolo.data --save_labels\n",
      "python3 darknet_images.py --input 20191109104542-6ace.jpg --weights yolov4-tiny_6000.weights --config_file cfg/yolov4-tiny.cfg --data_file data/yolo.data --save_labels\n",
      "python3 darknet_images.py --input image11.jpeg --weights yolov4-tiny_6000.weights --config_file cfg/yolov4-tiny.cfg --data_file data/yolo.data --save_labels\n",
      "python3 darknet_images.py --input images260.jpg --weights yolov4-tiny_6000.weights --config_file cfg/yolov4-tiny.cfg --data_file data/yolo.data --save_labels\n",
      "python3 darknet_images.py --input PhanAnh-381b.png --weights yolov4-tiny_6000.weights --config_file cfg/yolov4-tiny.cfg --data_file data/yolo.data --save_labels\n",
      "python3 darknet_images.py --input _109280915__106034263_gettyimages-469673666.jpg --weights yolov4-tiny_6000.weights --config_file cfg/yolov4-tiny.cfg --data_file data/yolo.data --save_labels\n",
      "python3 darknet_images.py --input images82.jpg --weights yolov4-tiny_6000.weights --config_file cfg/yolov4-tiny.cfg --data_file data/yolo.data --save_labels\n",
      "python3 darknet_images.py --input images140.jpg --weights yolov4-tiny_6000.weights --config_file cfg/yolov4-tiny.cfg --data_file data/yolo.data --save_labels\n",
      "python3 darknet_images.py --input duong-luoi-bo-phi-phap-1-1584517161696.jpg --weights yolov4-tiny_6000.weights --config_file cfg/yolov4-tiny.cfg --data_file data/yolo.data --save_labels\n",
      "python3 darknet_images.py --input Untitled-a9d2.png --weights yolov4-tiny_6000.weights --config_file cfg/yolov4-tiny.cfg --data_file data/yolo.data --save_labels\n",
      "python3 darknet_images.py --input duong-luoi-bo-phi-phap-duoc-cai-cam-vao-phim-an-pham-ban-do-cuoc-xam-lang-mem-nguy-hiem-duong-luoi-bo-1571195023-width648height364.jpg --weights yolov4-tiny_6000.weights --config_file cfg/yolov4-tiny.cfg --data_file data/yolo.data --save_labels\n",
      "python3 darknet_images.py --input images180.jpg --weights yolov4-tiny_6000.weights --config_file cfg/yolov4-tiny.cfg --data_file data/yolo.data --save_labels\n",
      "python3 darknet_images.py --input images173.jpg --weights yolov4-tiny_6000.weights --config_file cfg/yolov4-tiny.cfg --data_file data/yolo.data --save_labels\n",
      "python3 darknet_images.py --input images77.jpg --weights yolov4-tiny_6000.weights --config_file cfg/yolov4-tiny.cfg --data_file data/yolo.data --save_labels\n",
      "python3 darknet_images.py --input images174.jpg --weights yolov4-tiny_6000.weights --config_file cfg/yolov4-tiny.cfg --data_file data/yolo.data --save_labels\n",
      "python3 darknet_images.py --input images112.jpg --weights yolov4-tiny_6000.weights --config_file cfg/yolov4-tiny.cfg --data_file data/yolo.data --save_labels\n",
      "python3 darknet_images.py --input images152.jpg --weights yolov4-tiny_6000.weights --config_file cfg/yolov4-tiny.cfg --data_file data/yolo.data --save_labels\n",
      "python3 darknet_images.py --input images181.jpg --weights yolov4-tiny_6000.weights --config_file cfg/yolov4-tiny.cfg --data_file data/yolo.data --save_labels\n",
      "python3 darknet_images.py --input images256.jpg --weights yolov4-tiny_6000.weights --config_file cfg/yolov4-tiny.cfg --data_file data/yolo.data --save_labels\n"
     ]
    }
   ],
   "source": [
    "imgFiles = os.listdir(homePath)\n",
    "\n",
    "for image in imgFiles:\n",
    "    string = \"python3 darknet_images.py --input \" + image + \" --weights yolov4-tiny_6000.weights --config_file cfg/yolov4-tiny.cfg --data_file data/yolo.data --save_labels\"\n",
    "    print(string)\n",
    "    os.system(string)"
   ]
  },
  {
   "cell_type": "code",
   "execution_count": null,
   "metadata": {},
   "outputs": [],
   "source": []
  },
  {
   "cell_type": "code",
   "execution_count": null,
   "metadata": {},
   "outputs": [],
   "source": []
  },
  {
   "cell_type": "code",
   "execution_count": null,
   "metadata": {},
   "outputs": [],
   "source": []
  },
  {
   "cell_type": "code",
   "execution_count": null,
   "metadata": {},
   "outputs": [],
   "source": []
  }
 ],
 "metadata": {
  "kernelspec": {
   "display_name": "Python 3.8.2 64-bit",
   "language": "python",
   "name": "python38264bita6f50e50d0ae43c9b91bb5633cee2fdb"
  },
  "language_info": {
   "codemirror_mode": {
    "name": "ipython",
    "version": 3
   },
   "file_extension": ".py",
   "mimetype": "text/x-python",
   "name": "python",
   "nbconvert_exporter": "python",
   "pygments_lexer": "ipython3",
   "version": "3.8.2"
  }
 },
 "nbformat": 4,
 "nbformat_minor": 4
}
