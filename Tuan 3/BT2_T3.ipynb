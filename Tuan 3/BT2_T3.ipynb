{
 "cells": [
  {
   "cell_type": "code",
   "execution_count": 114,
   "metadata": {},
   "outputs": [],
   "source": [
    "import numpy as np\n",
    "import pandas as pd\n",
    "from sklearn.model_selection import *\n",
    "from sklearn import *\n",
    "import matplotlib as mpl\n",
    "import matplotlib.pyplot as plt\n",
    "import seaborn as sns\n",
    "from sklearn.preprocessing import StandardScaler\n",
    "from sklearn.decomposition import PCA\n",
    "from sklearn.linear_model import LogisticRegression\n",
    "from sklearn.pipeline import Pipeline\n",
    "from sklearn.preprocessing import *\n",
    "from sklearn import *\n",
    "from sklearn.metrics import *\n",
    "from mnist import *\n",
    "from pandas import *\n",
    "from datetime import date\n",
    "from collections import namedtuple\n",
    "import cv2\n",
    "from sklearn.feature_extraction.text import *\n",
    "from sklearn.naive_bayes import *\n",
    "from sklearn.metrics import *\n",
    "from scipy import *\n",
    "from sklearn.metrics import confusion_matrix\n",
    "import itertools\n",
    "import os\n",
    "from keras.utils.np_utils import * \n",
    "from keras.models import *\n",
    "from keras.layers import *\n",
    "from keras.optimizers import *\n",
    "from keras.preprocessing.image import *\n",
    "from keras.callbacks import *\n",
    "from skimage.filters import threshold_local\n"
   ]
  },
  {
   "cell_type": "code",
   "execution_count": 115,
   "metadata": {},
   "outputs": [],
   "source": [
    "homePath_train = \"/home/giang/Desktop/ThucTap/Tuan3/data/\""
   ]
  },
  {
   "cell_type": "code",
   "execution_count": 116,
   "metadata": {},
   "outputs": [
    {
     "data": {
      "text/plain": [
       "['0', '1']"
      ]
     },
     "execution_count": 116,
     "metadata": {},
     "output_type": "execute_result"
    }
   ],
   "source": [
    "chars = ['0', '1']\n",
    "chars"
   ]
  },
  {
   "cell_type": "code",
   "execution_count": 117,
   "metadata": {},
   "outputs": [],
   "source": [
    "# ham xu li du lieu\n",
    "def preprocessdata(homePath):\n",
    "    data=[]\n",
    "    label=[]\n",
    "    for i,char in enumerate(chars):\n",
    "        imgPath = homePath + char + \"/\"\n",
    "        print(imgPath)\n",
    "        imgFiles = os.listdir(imgPath)\n",
    "#         kk = 0\n",
    "        for image in imgFiles:\n",
    "   \n",
    "            img = cv2.imread(imgPath + image,0)\n",
    "            img = cv2.resize(img, (28, 28))\n",
    "            \n",
    "#             print(img.shape)\n",
    "#             noise_removal = cv2.bilateralFilter(img,9,75,75)\n",
    "\n",
    "#             equal_histogram = cv2.equalizeHist(noise_removal)\n",
    "#             img_pad = np.zeros([28, 28])\n",
    "#             img_pad[6:26, 3:23] = img\n",
    "            data.append(img)\n",
    "            label.append(i)\n",
    "\n",
    "    l = len(label)\n",
    "    shutfle = list(range(l))\n",
    "    random.shuffle(shutfle)\n",
    "    train_data = np.array(data)\n",
    "    train_label = np.array(label)\n",
    "    train_data = train_data[shutfle]\n",
    "    train_label = train_label[shutfle]\n",
    "    return data,label"
   ]
  },
  {
   "cell_type": "code",
   "execution_count": 118,
   "metadata": {},
   "outputs": [
    {
     "name": "stdout",
     "output_type": "stream",
     "text": [
      "/home/giang/Desktop/ThucTap/Tuan3/data/0/\n",
      "/home/giang/Desktop/ThucTap/Tuan3/data/1/\n"
     ]
    }
   ],
   "source": [
    "data,label = preprocessdata(homePath_train)"
   ]
  },
  {
   "cell_type": "code",
   "execution_count": 119,
   "metadata": {},
   "outputs": [],
   "source": [
    "x = data\n",
    "y = label"
   ]
  },
  {
   "cell_type": "code",
   "execution_count": 120,
   "metadata": {},
   "outputs": [],
   "source": [
    "X_train, X_test, y_train, y_test = train_test_split(x, y, test_size=0.3, random_state=1)\n",
    "y_tt = y_test"
   ]
  },
  {
   "cell_type": "code",
   "execution_count": 121,
   "metadata": {},
   "outputs": [
    {
     "name": "stderr",
     "output_type": "stream",
     "text": [
      "<ipython-input-121-c4f5b2067eb1>:1: DeprecationWarning: scipy.reshape is deprecated and will be removed in SciPy 2.0.0, use numpy.reshape instead\n",
      "  X_train = reshape(X_train,(-1,28,28,1))\n",
      "<ipython-input-121-c4f5b2067eb1>:3: DeprecationWarning: scipy.reshape is deprecated and will be removed in SciPy 2.0.0, use numpy.reshape instead\n",
      "  X_test = reshape(X_test,(-1,28,28,1))\n"
     ]
    }
   ],
   "source": [
    "X_train = reshape(X_train,(-1,28,28,1))\n",
    "y_train = to_categorical(y_train, num_classes = 2)\n",
    "X_test = reshape(X_test,(-1,28,28,1))\n",
    "y_test = to_categorical(y_test, num_classes = 2)"
   ]
  },
  {
   "cell_type": "code",
   "execution_count": 122,
   "metadata": {},
   "outputs": [],
   "source": [
    "model = Sequential()\n",
    "\n",
    "model.add(Conv2D(32, (3, 3), activation='relu', input_shape=(28,28,1)))\n",
    "model.add(Conv2D(32, (3, 3), activation='relu'))\n",
    "model.add(MaxPooling2D(pool_size=(2,2)))\n",
    "model.add(Dropout(0.2))\n",
    "\n",
    "model.add(Conv2D(64, (3, 3), activation='relu'))\n",
    "model.add(Conv2D(64, (3, 3), activation='relu'))\n",
    "model.add(MaxPooling2D(pool_size=(2,2)))\n",
    "model.add(Dropout(0.2))\n",
    "\n",
    "model.add(Flatten())\n",
    "model.add(Dense(64, activation='relu'))\n",
    "model.add(Dropout(0.4))\n",
    "model.add(Dense(64, activation='relu'))\n",
    "model.add(Dropout(0.4))\n",
    "model.add(Dense(2, activation='softmax'))\n",
    "model.compile(loss='categorical_crossentropy',\n",
    "                    optimizer='adam',\n",
    "                    metrics=['accuracy'])\n",
    "# model.summary()\n",
    "# res = model.fit(X_train, y_train, validation_split=0.2,shuffle=True,\n",
    "#                  batch_size=32, epochs=100, verbose=1)\n",
    "\n",
    "# model.save(\"b2_t3_.h5\")\n",
    "model.load_weights(\"b2_t3_.h5\")"
   ]
  },
  {
   "cell_type": "code",
   "execution_count": 123,
   "metadata": {},
   "outputs": [
    {
     "data": {
      "text/plain": [
       "[0.4475735650820161, 0.931405246257782]"
      ]
     },
     "execution_count": 123,
     "metadata": {},
     "output_type": "execute_result"
    }
   ],
   "source": [
    "score = model.evaluate(X_test, y_test, verbose=0)\n",
    "score"
   ]
  },
  {
   "cell_type": "code",
   "execution_count": 124,
   "metadata": {},
   "outputs": [],
   "source": [
    "results = chars.copy()"
   ]
  },
  {
   "cell_type": "code",
   "execution_count": 125,
   "metadata": {},
   "outputs": [],
   "source": [
    "# model = Sequential()\n",
    "# model = create_model()\n",
    "\n",
    "img_ = cv2.imread(\"/home/giang/Pictures/anhtest27.png\", 0)\n",
    "X_test__ = cv2.resize(img_, (28, 28))"
   ]
  },
  {
   "cell_type": "code",
   "execution_count": 126,
   "metadata": {},
   "outputs": [
    {
     "data": {
      "text/plain": [
       "'1'"
      ]
     },
     "execution_count": 126,
     "metadata": {},
     "output_type": "execute_result"
    }
   ],
   "source": [
    "y_predict = model.predict(X_test__.reshape(1,28,28,1))\n",
    "test_logits = np.argmax(y_predict, axis=-1)\n",
    "res__ = results[int(test_logits)]\n",
    "res__"
   ]
  },
  {
   "cell_type": "code",
   "execution_count": 127,
   "metadata": {},
   "outputs": [
    {
     "data": {
      "text/plain": [
       "array([[6.5260589e-01, 3.4739405e-01],\n",
       "       [9.7236950e-03, 9.9027634e-01],\n",
       "       [8.0865246e-01, 1.9134749e-01],\n",
       "       ...,\n",
       "       [6.4149940e-01, 3.5850063e-01],\n",
       "       [1.0674684e-03, 9.9893254e-01],\n",
       "       [1.0000000e+00, 2.5505559e-12]], dtype=float32)"
      ]
     },
     "execution_count": 127,
     "metadata": {},
     "output_type": "execute_result"
    }
   ],
   "source": [
    "kq = model.predict(X_test)\n",
    "kq"
   ]
  },
  {
   "cell_type": "code",
   "execution_count": 128,
   "metadata": {},
   "outputs": [
    {
     "data": {
      "text/plain": [
       "array([0, 1, 0, ..., 0, 1, 0])"
      ]
     },
     "execution_count": 128,
     "metadata": {},
     "output_type": "execute_result"
    }
   ],
   "source": [
    "resS = np.argmax(kq, axis=-1)\n",
    "resS"
   ]
  },
  {
   "cell_type": "code",
   "execution_count": 129,
   "metadata": {},
   "outputs": [
    {
     "name": "stdout",
     "output_type": "stream",
     "text": [
      "              precision    recall  f1-score   support\n",
      "\n",
      "           0       0.93      0.93      0.93      1334\n",
      "           1       0.94      0.93      0.93      1363\n",
      "\n",
      "    accuracy                           0.93      2697\n",
      "   macro avg       0.93      0.93      0.93      2697\n",
      "weighted avg       0.93      0.93      0.93      2697\n",
      "\n"
     ]
    }
   ],
   "source": [
    "print(classification_report(y_tt, resS, target_names=['0', '1']))"
   ]
  },
  {
   "cell_type": "code",
   "execution_count": 139,
   "metadata": {},
   "outputs": [],
   "source": [
    "im = cv2.imread(\"/home/giang/Pictures/anhtest3.jpg\", 1)\n",
    "# im = cv2.resize(im, (800, 800))"
   ]
  },
  {
   "cell_type": "code",
   "execution_count": 140,
   "metadata": {},
   "outputs": [
    {
     "data": {
      "image/png": "[encoded data removed]",
      "text/plain": [
       "<Figure size 432x288 with 1 Axes>"
      ]
     },
     "metadata": {
      "needs_background": "light"
     },
     "output_type": "display_data"
    }
   ],
   "source": [
    "im_gray = cv2.cvtColor(im,cv2.COLOR_BGR2GRAY)\n",
    "\n",
    "noise_removal = cv2.bilateralFilter(im_gray,9,75,75)\n",
    "\n",
    "equal_histogram = cv2.equalizeHist(noise_removal)\n",
    "kernel = cv2.getStructuringElement(cv2.MORPH_RECT,(5,5))\n",
    "morph_image = cv2.morphologyEx(equal_histogram,cv2.MORPH_OPEN,kernel,iterations=20)\n",
    "\n",
    "sub_morp_image = cv2.subtract(equal_histogram,morph_image)\n",
    "ret,thresh_image = cv2.threshold(sub_morp_image,0,255,cv2.THRESH_OTSU)\n",
    "\n",
    "canny_image = cv2.Canny(thresh_image,250,255)\n",
    "kernel = np.ones((3,3), np.uint8)\n",
    "dilated_image = cv2.dilate(canny_image,kernel,iterations=1)\n",
    "plt.imshow(cv2.cvtColor(dilated_image,cv2.COLOR_BGR2RGB))\n",
    "plt.show()"
   ]
  },
  {
   "cell_type": "code",
   "execution_count": 142,
   "metadata": {},
   "outputs": [
    {
     "name": "stdout",
     "output_type": "stream",
     "text": [
      "1243.276253938675\n",
      "530.1736603975296\n",
      "654.2741659879684\n",
      "1629.3666582107544\n",
      "357.2792179584503\n",
      "412.1492750644684\n",
      "552.8183218240738\n",
      "597.4629833698273\n",
      "1404.5138407945633\n",
      "340.4091612100601\n",
      "396.7766921520233\n",
      "271.33809328079224\n",
      "309.2375886440277\n",
      "238.61017155647278\n",
      "306.65180134773254\n",
      "339.5218586921692\n",
      "437.9482640028\n",
      "397.2203427553177\n",
      "256.99494755268097\n",
      "199.53910386562347\n",
      "264.30865585803986\n",
      "173.88224959373474\n",
      "163.53910386562347\n",
      "235.13708233833313\n",
      "302.79393684864044\n",
      "232.16652047634125\n",
      "190.85281205177307\n",
      "304.7523069381714\n",
      "209.0538226366043\n",
      "563.4213538169861\n",
      "143.78174436092377\n",
      "150.32590067386627\n",
      "127.49747383594513\n",
      "152.81118166446686\n",
      "191.0538228750229\n",
      "182.5096673965454\n",
      "132.9116871356964\n",
      "97.55634891986847\n",
      "161.74011433124542\n",
      "108.32590079307556\n",
      "128.76955199241638\n",
      "368.56854140758514\n",
      "78.18376612663269\n",
      "78.3847758769989\n",
      "85.8406194448471\n",
      "94.28427076339722\n",
      "77.35533845424652\n",
      "70.87005722522736\n",
      "93.94112479686737\n",
      "73.94112527370453\n",
      "65.79898953437805\n",
      "68.04162991046906\n",
      "71.11269783973694\n",
      "60.38477599620819\n",
      "207.69848430156708\n",
      "72.76955235004425\n",
      "67.31370830535889\n",
      "56.870057106018066\n",
      "55.79898953437805\n",
      "76.2842708826065\n",
      "66.04163014888763\n",
      "54.72792184352875\n",
      "58.72792184352875\n",
      "78.76955199241638\n",
      "50.97056233882904\n",
      "104.18376541137695\n",
      "65.21320307254791\n",
      "119.55634891986847\n",
      "50.38477599620819\n",
      "109.4558436870575\n",
      "49.31370830535889\n",
      "60.42640578746796\n",
      "48.38477599620819\n",
      "46.62741661071777\n",
      "101.49747359752655\n",
      "42.97056221961975\n",
      "41.899494647979736\n",
      "87.59797871112823\n",
      "53.35533857345581\n",
      "43.31370830535889\n",
      "102.82842707633972\n",
      "38.72792184352875\n",
      "39.31370830535889\n",
      "44.485281229019165\n",
      "38.14213526248932\n",
      "70.18376576900482\n",
      "42.3847758769989\n",
      "49.21320307254791\n",
      "37.31370830535889\n",
      "38.041630268096924\n",
      "37.21320283412933\n",
      "47.55634891986847\n",
      "45.455843687057495\n",
      "42.97056233882904\n",
      "37.65685415267944\n",
      "36.3847758769989\n",
      "62.041630148887634\n",
      "33.455843448638916\n",
      "32.485281229019165\n",
      "45.899494767189026\n",
      "46.97056233882904\n",
      "30.727921843528748\n",
      "33.899494767189026\n",
      "31.071067690849304\n",
      "32.485281229019165\n",
      "28.485281229019165\n",
      "29.656854152679443\n",
      "43.21320295333862\n",
      "29.071067690849304\n",
      "35.899494767189026\n",
      "40.97056233882904\n",
      "28.727921843528748\n",
      "38.14213538169861\n",
      "45.79898953437805\n",
      "28.97056233882904\n",
      "26.82842707633972\n",
      "30.97056245803833\n",
      "32.97056233882904\n",
      "29.313708305358887\n",
      "26.97056221961975\n",
      "35.55634891986847\n",
      "25.55634880065918\n",
      "25.071067690849304\n",
      "26.242640614509583\n",
      "27.313708305358887\n",
      "25.55634903907776\n",
      "27.55634891986847\n",
      "27.55634891986847\n",
      "24.82842707633972\n",
      "24.14213538169861\n",
      "23.656854152679443\n",
      "23.071067690849304\n",
      "22.242640614509583\n",
      "23.656854152679443\n",
      "22.14213538169861\n",
      "22.242640614509583\n",
      "20.82842707633972\n",
      "22.97056245803833\n",
      "25.899494767189026\n",
      "20.727921843528748\n",
      "19.656854152679443\n",
      "20.242640614509583\n",
      "20.82842707633972\n",
      "18.727921724319458\n",
      "19.899494767189026\n",
      "18.82842707633972\n",
      "21.071067690849304\n",
      "21.899494767189026\n",
      "18.82842707633972\n",
      "18.242640614509583\n",
      "17.899494647979736\n",
      "16.242640614509583\n",
      "19.071067690849304\n",
      "17.899494767189026\n",
      "17.899494767189026\n",
      "16.0\n",
      "16.0\n",
      "17.071067690849304\n",
      "14.828427076339722\n",
      "15.41421353816986\n",
      "15.071067690849304\n",
      "14.485281229019165\n",
      "13.41421353816986\n",
      "12.485281229019165\n",
      "12.485281229019165\n",
      "11.899494767189026\n",
      "11.071067690849304\n",
      "10.828427076339722\n",
      "10.485281229019165\n",
      "10.485281229019165\n",
      "10.485281229019165\n",
      "9.656854152679443\n",
      "9.656854152679443\n",
      "9.656854152679443\n",
      "9.656854152679443\n",
      "9.071067690849304\n",
      "7.656854152679443\n",
      "7.656854152679443\n",
      "7.656854152679443\n",
      "7.656854152679443\n",
      "10.0\n",
      "7.656854152679443\n",
      "7.656854152679443\n",
      "7.656854152679443\n",
      "7.656854152679443\n",
      "5.656854152679443\n",
      "5.656854152679443\n",
      "5.656854152679443\n",
      "5.656854152679443\n",
      "5.656854152679443\n",
      "5.656854152679443\n",
      "5.656854152679443\n",
      "5.656854152679443\n",
      "5.656854152679443\n",
      "5.656854152679443\n",
      "5.656854152679443\n",
      "5.656854152679443\n",
      "5.656854152679443\n",
      "5.656854152679443\n",
      "5.656854152679443\n",
      "5.656854152679443\n",
      "5.656854152679443\n",
      "5.656854152679443\n",
      "5.656854152679443\n",
      "5.656854152679443\n",
      "5.656854152679443\n",
      "5.656854152679443\n",
      "5.656854152679443\n",
      "5.656854152679443\n",
      "5.656854152679443\n",
      "5.656854152679443\n",
      "5.656854152679443\n",
      "anh khong chua ban do\n"
     ]
    }
   ],
   "source": [
    "contours, hierarchy = cv2.findContours(dilated_image, cv2.RETR_TREE, cv2.CHAIN_APPROX_SIMPLE)\n",
    "\n",
    "contours= sorted(contours, key = cv2.contourArea, reverse = True)\n",
    "screenCnt = None\n",
    "roi_img = []\n",
    "check = 0\n",
    "for c in contours:\n",
    "    peri = cv2.arcLength(c, True) \n",
    "#     print(peri)\n",
    "    if(peri < 101):\n",
    "        continue\n",
    "        \n",
    "    approx = cv2.approxPolyDP(c, 0.06 * peri, True) \n",
    "    if len(approx) == 4:\n",
    "        screenCnt = approx\n",
    "        (x,y,w,h) = cv2.boundingRect(screenCnt)\n",
    "        roi = im[y:y+h,x:x+w]\n",
    "        roi_img.append(roi)\n",
    "#         plt.imshow(cv2.cvtColor(roi,cv2.COLOR_BGR2RGB))\n",
    "#         plt.show()\n",
    "        roi = cv2.cvtColor(roi, cv2.COLOR_BGR2GRAY)\n",
    "        X_test__ = cv2.resize(roi, (28, 28))\n",
    "        y_predict = model.predict(X_test__.reshape(1,28,28,1))\n",
    "#         print(\" y predict\", y_predict)\n",
    "        test_logits = np.argmax(y_predict, axis=-1)\n",
    "        res__ = results[int(test_logits)]\n",
    "\n",
    "        if(res__ == '1'):\n",
    "            check = 1\n",
    "            plt.imshow(cv2.cvtColor(roi,cv2.COLOR_BGR2RGB))\n",
    "            plt.show()\n",
    "#             print(\"anh co chua 22 ban do\")\n",
    "            break\n",
    "\n",
    "# print(check)\n",
    "if(check == 1):\n",
    "    print(\"anh co chua ban do\")\n",
    "else:\n",
    "    print(\"anh khong chua ban do\")"
   ]
  },
  {
   "cell_type": "code",
   "execution_count": null,
   "metadata": {},
   "outputs": [],
   "source": []
  },
  {
   "cell_type": "code",
   "execution_count": null,
   "metadata": {},
   "outputs": [],
   "source": []
  }
 ],
 "metadata": {
  "kernelspec": {
   "display_name": "Python 3.8.2 64-bit",
   "language": "python",
   "name": "python38264bita6f50e50d0ae43c9b91bb5633cee2fdb"
  },
  "language_info": {
   "codemirror_mode": {
    "name": "ipython",
    "version": 3
   },
   "file_extension": ".py",
   "mimetype": "text/x-python",
   "name": "python",
   "nbconvert_exporter": "python",
   "pygments_lexer": "ipython3",
   "version": "3.8.2"
  }
 },
 "nbformat": 4,
 "nbformat_minor": 4
}
