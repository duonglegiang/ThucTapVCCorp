{
 "cells": [
  {
   "cell_type": "code",
   "execution_count": 39,
   "metadata": {},
   "outputs": [],
   "source": [
    "import numpy as np\n",
    "import pandas as pd\n",
    "from sklearn.model_selection import *\n",
    "from sklearn import *\n",
    "import matplotlib as mpl\n",
    "import matplotlib.pyplot as plt\n",
    "import seaborn as sns\n",
    "from sklearn.preprocessing import StandardScaler\n",
    "from sklearn.decomposition import PCA\n",
    "from sklearn.linear_model import LogisticRegression\n",
    "from sklearn.pipeline import Pipeline\n",
    "from sklearn.preprocessing import *\n",
    "from sklearn import *\n",
    "from sklearn.metrics import *\n",
    "from mnist import *\n",
    "from pandas import *\n",
    "from datetime import date\n",
    "from collections import namedtuple\n",
    "import cv2\n",
    "from sklearn.feature_extraction.text import *\n",
    "from sklearn.naive_bayes import *\n",
    "from sklearn.metrics import *\n",
    "from scipy import *\n",
    "from sklearn.metrics import confusion_matrix\n",
    "import itertools\n",
    "import os\n",
    "from keras.utils.np_utils import * \n",
    "from keras.models import *\n",
    "from keras.layers import *\n",
    "from keras.optimizers import *\n",
    "from keras.preprocessing.image import *\n",
    "from keras.callbacks import *\n",
    "from skimage.filters import threshold_local\n"
   ]
  },
  {
   "cell_type": "code",
   "execution_count": 40,
   "metadata": {},
   "outputs": [],
   "source": [
    "homePath_train = \"/home/giang/Desktop/ThucTap/Tuan3/data/\""
   ]
  },
  {
   "cell_type": "code",
   "execution_count": 41,
   "metadata": {},
   "outputs": [
    {
     "data": {
      "text/plain": [
       "['0', '1']"
      ]
     },
     "execution_count": 41,
     "metadata": {},
     "output_type": "execute_result"
    }
   ],
   "source": [
    "chars = ['0', '1']\n",
    "chars"
   ]
  },
  {
   "cell_type": "code",
   "execution_count": 42,
   "metadata": {},
   "outputs": [],
   "source": [
    "# ham xu li du lieu\n",
    "def preprocessdata(homePath):\n",
    "    data=[]\n",
    "    label=[]\n",
    "    for i,char in enumerate(chars):\n",
    "        imgPath = homePath + char + \"/\"\n",
    "        print(imgPath)\n",
    "        imgFiles = os.listdir(imgPath)\n",
    "#         kk = 0\n",
    "        for image in imgFiles:\n",
    "            img = cv2.imread(imgPath + image,0)\n",
    "            img = cv2.resize(img, (28, 28))\n",
    "#             print(img.shape)\n",
    "#             noise_removal = cv2.bilateralFilter(img,9,75,75)\n",
    "\n",
    "#             equal_histogram = cv2.equalizeHist(noise_removal)\n",
    "#             img_pad = np.zeros([28, 28])\n",
    "#             img_pad[6:26, 3:23] = img\n",
    "            data.append(img)\n",
    "            label.append(i)\n",
    "\n",
    "    l = len(label)\n",
    "    shutfle = list(range(l))\n",
    "    random.shuffle(shutfle)\n",
    "    train_data = np.array(data)\n",
    "    train_label = np.array(label)\n",
    "    train_data = train_data[shutfle]\n",
    "    train_label = train_label[shutfle]\n",
    "    return data,label"
   ]
  },
  {
   "cell_type": "code",
   "execution_count": 43,
   "metadata": {},
   "outputs": [
    {
     "name": "stdout",
     "output_type": "stream",
     "text": [
      "/home/giang/Desktop/ThucTap/Tuan3/data/0/\n",
      "/home/giang/Desktop/ThucTap/Tuan3/data/1/\n"
     ]
    }
   ],
   "source": [
    "data,label = preprocessdata(homePath_train)"
   ]
  },
  {
   "cell_type": "code",
   "execution_count": 44,
   "metadata": {},
   "outputs": [],
   "source": [
    "x = data\n",
    "y = label"
   ]
  },
  {
   "cell_type": "code",
   "execution_count": 45,
   "metadata": {},
   "outputs": [],
   "source": [
    "X_train, X_test, y_train, y_test = train_test_split(x, y, test_size=0.2, random_state=1)\n",
    "y_tt = y_test"
   ]
  },
  {
   "cell_type": "code",
   "execution_count": 46,
   "metadata": {},
   "outputs": [
    {
     "name": "stderr",
     "output_type": "stream",
     "text": [
      "<ipython-input-46-c4f5b2067eb1>:1: DeprecationWarning: scipy.reshape is deprecated and will be removed in SciPy 2.0.0, use numpy.reshape instead\n",
      "  X_train = reshape(X_train,(-1,28,28,1))\n",
      "<ipython-input-46-c4f5b2067eb1>:3: DeprecationWarning: scipy.reshape is deprecated and will be removed in SciPy 2.0.0, use numpy.reshape instead\n",
      "  X_test = reshape(X_test,(-1,28,28,1))\n"
     ]
    }
   ],
   "source": [
    "X_train = reshape(X_train,(-1,28,28,1))\n",
    "y_train = to_categorical(y_train, num_classes = 2)\n",
    "X_test = reshape(X_test,(-1,28,28,1))\n",
    "y_test = to_categorical(y_test, num_classes = 2)"
   ]
  },
  {
   "cell_type": "code",
   "execution_count": 47,
   "metadata": {},
   "outputs": [],
   "source": [
    "model = Sequential()\n",
    "\n",
    "model.add(Conv2D(32, (3, 3), activation='relu', input_shape=(28,28,1)))\n",
    "model.add(Conv2D(32, (3, 3), activation='relu'))\n",
    "model.add(MaxPooling2D(pool_size=(2,2)))\n",
    "model.add(Dropout(0.2))\n",
    "\n",
    "model.add(Conv2D(64, (3, 3), activation='relu'))\n",
    "model.add(Conv2D(64, (3, 3), activation='relu'))\n",
    "model.add(MaxPooling2D(pool_size=(2,2)))\n",
    "model.add(Dropout(0.2))\n",
    "\n",
    "model.add(Flatten())\n",
    "model.add(Dense(64, activation='relu'))\n",
    "model.add(Dropout(0.4))\n",
    "model.add(Dense(64, activation='relu'))\n",
    "model.add(Dropout(0.4))\n",
    "model.add(Dense(2, activation='softmax'))\n",
    "model.compile(loss='categorical_crossentropy',\n",
    "                    optimizer='adam',\n",
    "                    metrics=['accuracy'])\n",
    "# model.summary()\n",
    "# res = model.fit(X_train, y_train, validation_split=0.2,shuffle=True,\n",
    "#                  batch_size=32, epochs=100, verbose=1)\n",
    "\n",
    "# model.save(\"b2_t3.h5\")\n",
    "model.load_weights(\"b2_t3.h5\")"
   ]
  },
  {
   "cell_type": "code",
   "execution_count": 48,
   "metadata": {},
   "outputs": [
    {
     "data": {
      "text/plain": [
       "[1.0288562953472138, 0.824999988079071]"
      ]
     },
     "execution_count": 48,
     "metadata": {},
     "output_type": "execute_result"
    }
   ],
   "source": [
    "score = model.evaluate(X_test, y_test, verbose=0)\n",
    "score"
   ]
  },
  {
   "cell_type": "code",
   "execution_count": 49,
   "metadata": {},
   "outputs": [],
   "source": [
    "results = chars.copy()"
   ]
  },
  {
   "cell_type": "code",
   "execution_count": 50,
   "metadata": {},
   "outputs": [],
   "source": [
    "# model = Sequential()\n",
    "# model = create_model()\n",
    "\n",
    "img_ = cv2.imread(\"/home/giang/Pictures/anhtest27.png\", 0)\n",
    "X_test__ = cv2.resize(img_, (28, 28))"
   ]
  },
  {
   "cell_type": "code",
   "execution_count": 51,
   "metadata": {},
   "outputs": [
    {
     "data": {
      "text/plain": [
       "'0'"
      ]
     },
     "execution_count": 51,
     "metadata": {},
     "output_type": "execute_result"
    }
   ],
   "source": [
    "y_predict = model.predict(X_test__.reshape(1,28,28,1))\n",
    "test_logits = np.argmax(y_predict, axis=-1)\n",
    "res__ = results[int(test_logits)]\n",
    "res__"
   ]
  },
  {
   "cell_type": "code",
   "execution_count": 52,
   "metadata": {},
   "outputs": [
    {
     "data": {
      "text/plain": [
       "array([[9.99977946e-01, 2.20035818e-05],\n",
       "       [1.48359641e-01, 8.51640344e-01],\n",
       "       [1.00000000e+00, 9.21951471e-20],\n",
       "       [3.73812467e-01, 6.26187503e-01],\n",
       "       [2.89727688e-01, 7.10272253e-01],\n",
       "       [1.98826149e-01, 8.01173806e-01],\n",
       "       [5.21427300e-03, 9.94785726e-01],\n",
       "       [1.00000000e+00, 1.88167819e-15],\n",
       "       [8.48824799e-01, 1.51175126e-01],\n",
       "       [8.57807696e-03, 9.91421878e-01],\n",
       "       [1.20671943e-01, 8.79328072e-01],\n",
       "       [9.47773337e-01, 5.22266291e-02],\n",
       "       [2.08595153e-02, 9.79140520e-01],\n",
       "       [2.19029441e-01, 7.80970573e-01],\n",
       "       [1.00000000e+00, 8.12261647e-11],\n",
       "       [9.37134624e-01, 6.28653243e-02],\n",
       "       [2.37055440e-02, 9.76294458e-01],\n",
       "       [4.07774717e-01, 5.92225254e-01],\n",
       "       [7.86468923e-01, 2.13531047e-01],\n",
       "       [9.99709547e-01, 2.90429307e-04],\n",
       "       [8.12731802e-01, 1.87268168e-01],\n",
       "       [6.02179229e-01, 3.97820741e-01],\n",
       "       [8.85792971e-01, 1.14207096e-01],\n",
       "       [5.41405320e-01, 4.58594650e-01],\n",
       "       [5.91471076e-01, 4.08528984e-01],\n",
       "       [5.54012135e-02, 9.44598794e-01],\n",
       "       [9.99997377e-01, 2.57646866e-06],\n",
       "       [3.48940045e-01, 6.51059926e-01],\n",
       "       [8.08305264e-01, 1.91694796e-01],\n",
       "       [4.07126434e-02, 9.59287345e-01],\n",
       "       [8.85000825e-01, 1.14999108e-01],\n",
       "       [6.74486220e-01, 3.25513780e-01],\n",
       "       [9.99730647e-01, 2.69320939e-04],\n",
       "       [5.05935013e-01, 4.94064957e-01],\n",
       "       [1.09638587e-01, 8.90361428e-01],\n",
       "       [8.83345399e-03, 9.91166532e-01],\n",
       "       [2.66526418e-04, 9.99733508e-01],\n",
       "       [9.18989122e-01, 8.10109153e-02],\n",
       "       [6.63135871e-02, 9.33686376e-01],\n",
       "       [9.10541713e-01, 8.94582495e-02],\n",
       "       [2.39821956e-01, 7.60178030e-01],\n",
       "       [2.89658224e-03, 9.97103393e-01],\n",
       "       [2.48119086e-02, 9.75188076e-01],\n",
       "       [5.21131333e-05, 9.99947906e-01],\n",
       "       [2.69161701e-01, 7.30838299e-01],\n",
       "       [3.13636869e-01, 6.86363101e-01],\n",
       "       [9.51381981e-01, 4.86180224e-02],\n",
       "       [5.65400660e-01, 4.34599340e-01],\n",
       "       [8.68250191e-01, 1.31749764e-01],\n",
       "       [5.19186025e-03, 9.94808137e-01],\n",
       "       [5.26965439e-01, 4.73034620e-01],\n",
       "       [2.30687156e-01, 7.69312859e-01],\n",
       "       [3.43629457e-02, 9.65637088e-01],\n",
       "       [1.52465984e-01, 8.47534060e-01],\n",
       "       [1.00000000e+00, 1.47913903e-08],\n",
       "       [9.49379802e-01, 5.06202355e-02],\n",
       "       [1.54523984e-01, 8.45475972e-01],\n",
       "       [1.00000000e+00, 3.53052431e-18],\n",
       "       [9.99997139e-01, 2.84028692e-06],\n",
       "       [7.21576437e-02, 9.27842379e-01],\n",
       "       [2.07462683e-02, 9.79253769e-01],\n",
       "       [9.99867439e-01, 1.32561618e-04],\n",
       "       [8.08860958e-01, 1.91139027e-01],\n",
       "       [3.60707760e-01, 6.39292181e-01],\n",
       "       [9.99988437e-01, 1.15679359e-05],\n",
       "       [1.00000000e+00, 3.56640153e-22],\n",
       "       [9.99995470e-01, 4.49042955e-06],\n",
       "       [3.57810035e-02, 9.64219034e-01],\n",
       "       [2.35146105e-01, 7.64853835e-01],\n",
       "       [8.11949730e-01, 1.88050270e-01],\n",
       "       [4.37772833e-02, 9.56222713e-01],\n",
       "       [4.01058197e-02, 9.59894121e-01],\n",
       "       [9.99999762e-01, 2.94421341e-07],\n",
       "       [8.70628224e-04, 9.99129355e-01],\n",
       "       [2.40573451e-01, 7.59426534e-01],\n",
       "       [7.64301494e-02, 9.23569918e-01],\n",
       "       [2.10158899e-02, 9.78984058e-01],\n",
       "       [7.84412801e-01, 2.15587199e-01],\n",
       "       [6.84705190e-03, 9.93152976e-01],\n",
       "       [6.67945817e-02, 9.33205426e-01],\n",
       "       [6.86939657e-01, 3.13060403e-01],\n",
       "       [2.07591951e-01, 7.92408109e-01],\n",
       "       [9.99999762e-01, 2.37697691e-07],\n",
       "       [1.00000000e+00, 1.34640343e-09],\n",
       "       [1.78958163e-01, 8.21041822e-01],\n",
       "       [9.99995708e-01, 4.26369252e-06],\n",
       "       [1.00000000e+00, 9.55956078e-11],\n",
       "       [9.99989271e-01, 1.07669539e-05],\n",
       "       [2.20342875e-02, 9.77965653e-01],\n",
       "       [9.97680128e-01, 2.31985375e-03],\n",
       "       [4.61585552e-01, 5.38414419e-01],\n",
       "       [6.41000643e-02, 9.35899973e-01],\n",
       "       [5.38396463e-02, 9.46160316e-01],\n",
       "       [1.00000000e+00, 4.03745446e-08],\n",
       "       [6.12994730e-02, 9.38700497e-01],\n",
       "       [1.00000000e+00, 4.94932359e-11],\n",
       "       [1.62502080e-01, 8.37497950e-01],\n",
       "       [9.72243249e-02, 9.02775705e-01],\n",
       "       [1.00000000e+00, 1.48092120e-18],\n",
       "       [6.44716397e-02, 9.35528398e-01],\n",
       "       [2.17213169e-01, 7.82786787e-01],\n",
       "       [1.00000000e+00, 3.18066482e-13],\n",
       "       [2.03433018e-02, 9.79656637e-01],\n",
       "       [1.00000000e+00, 2.58784050e-17],\n",
       "       [9.84214067e-01, 1.57859549e-02],\n",
       "       [2.99533367e-01, 7.00466633e-01],\n",
       "       [9.99999881e-01, 1.26114074e-07],\n",
       "       [9.99914885e-01, 8.50820797e-05],\n",
       "       [9.55719829e-01, 4.42802049e-02],\n",
       "       [9.43521082e-01, 5.64789288e-02],\n",
       "       [7.80362427e-01, 2.19637588e-01],\n",
       "       [9.94242251e-01, 5.75767690e-03],\n",
       "       [9.99999285e-01, 6.68878442e-07],\n",
       "       [9.96242404e-01, 3.75762675e-03],\n",
       "       [1.23025021e-02, 9.87697542e-01],\n",
       "       [8.25313509e-01, 1.74686447e-01],\n",
       "       [9.97399092e-01, 2.60087103e-03],\n",
       "       [8.96532312e-02, 9.10346806e-01],\n",
       "       [9.21320975e-01, 7.86790475e-02],\n",
       "       [2.71469951e-02, 9.72853005e-01],\n",
       "       [6.82232141e-01, 3.17767829e-01],\n",
       "       [9.99999881e-01, 1.01388771e-07],\n",
       "       [1.34013578e-01, 8.65986466e-01],\n",
       "       [5.81564270e-02, 9.41843569e-01],\n",
       "       [2.24151582e-01, 7.75848389e-01],\n",
       "       [9.57809091e-01, 4.21908982e-02],\n",
       "       [8.09768736e-01, 1.90231249e-01],\n",
       "       [1.00000000e+00, 3.06997137e-33],\n",
       "       [4.46529686e-01, 5.53470373e-01],\n",
       "       [1.00000000e+00, 1.17738490e-15],\n",
       "       [1.00000000e+00, 6.95218438e-16],\n",
       "       [9.10458028e-01, 8.95419866e-02],\n",
       "       [6.64125621e-01, 3.35874319e-01],\n",
       "       [9.84080493e-01, 1.59194823e-02],\n",
       "       [1.00000000e+00, 1.33090705e-10],\n",
       "       [2.62227774e-01, 7.37772286e-01],\n",
       "       [1.00000000e+00, 1.06210944e-15],\n",
       "       [9.23839211e-03, 9.90761578e-01],\n",
       "       [1.00000000e+00, 6.86865453e-10],\n",
       "       [2.31543303e-01, 7.68456638e-01],\n",
       "       [9.99999762e-01, 2.84084564e-07],\n",
       "       [8.17048013e-01, 1.82952017e-01],\n",
       "       [9.99996305e-01, 3.75155764e-06],\n",
       "       [1.00000000e+00, 3.56692134e-13],\n",
       "       [9.84269261e-01, 1.57307610e-02],\n",
       "       [7.62872159e-01, 2.37127870e-01],\n",
       "       [9.89653051e-01, 1.03469286e-02],\n",
       "       [1.00000000e+00, 1.09188869e-09],\n",
       "       [1.00000000e+00, 1.01776330e-10],\n",
       "       [1.24219581e-01, 8.75780344e-01],\n",
       "       [3.47284228e-02, 9.65271592e-01],\n",
       "       [2.05094904e-01, 7.94905066e-01],\n",
       "       [9.99927282e-01, 7.27507577e-05],\n",
       "       [9.99722540e-01, 2.77424842e-04],\n",
       "       [9.13693368e-01, 8.63065869e-02],\n",
       "       [9.32224095e-01, 6.77759647e-02],\n",
       "       [9.59898694e-04, 9.99040067e-01],\n",
       "       [8.09285697e-03, 9.91907120e-01],\n",
       "       [8.24959755e-01, 1.75040215e-01],\n",
       "       [1.00000000e+00, 2.65365667e-08],\n",
       "       [1.00000000e+00, 3.67391054e-14],\n",
       "       [6.90123951e-03, 9.93098795e-01],\n",
       "       [1.00000000e+00, 7.78283281e-14],\n",
       "       [1.00000000e+00, 4.11049589e-15],\n",
       "       [2.21089069e-02, 9.77891088e-01],\n",
       "       [2.02198029e-02, 9.79780257e-01],\n",
       "       [1.30015323e-02, 9.86998498e-01],\n",
       "       [9.74311531e-01, 2.56884228e-02],\n",
       "       [1.29110858e-01, 8.70889127e-01],\n",
       "       [1.25272796e-01, 8.74727249e-01],\n",
       "       [9.99507666e-01, 4.92354098e-04],\n",
       "       [1.14822276e-01, 8.85177732e-01],\n",
       "       [1.00000000e+00, 3.01903658e-09],\n",
       "       [8.91446352e-01, 1.08553685e-01],\n",
       "       [9.99999642e-01, 3.38509892e-07],\n",
       "       [1.00000000e+00, 4.18487189e-16],\n",
       "       [8.86603445e-02, 9.11339641e-01],\n",
       "       [3.41496505e-02, 9.65850294e-01],\n",
       "       [9.99980688e-01, 1.93630767e-05],\n",
       "       [4.74995613e-01, 5.25004387e-01],\n",
       "       [1.02999164e-02, 9.89700079e-01],\n",
       "       [1.00000000e+00, 3.99727051e-09],\n",
       "       [2.41358787e-01, 7.58641183e-01],\n",
       "       [1.00000000e+00, 3.69310702e-13],\n",
       "       [2.10336313e-01, 7.89663672e-01],\n",
       "       [2.25083400e-02, 9.77491677e-01],\n",
       "       [2.42788643e-01, 7.57211387e-01],\n",
       "       [1.00000000e+00, 4.98430880e-11],\n",
       "       [9.86370683e-01, 1.36293722e-02],\n",
       "       [1.00000000e+00, 7.64195898e-21],\n",
       "       [4.11916189e-02, 9.58808422e-01],\n",
       "       [1.13958709e-01, 8.86041284e-01],\n",
       "       [3.42555791e-02, 9.65744436e-01],\n",
       "       [1.00000000e+00, 3.55768961e-08],\n",
       "       [2.93838620e-01, 7.06161380e-01],\n",
       "       [4.00389490e-06, 9.99995947e-01],\n",
       "       [1.53474405e-01, 8.46525609e-01],\n",
       "       [9.95319426e-01, 4.68058744e-03],\n",
       "       [9.56868529e-01, 4.31314670e-02],\n",
       "       [9.78267193e-01, 2.17328165e-02],\n",
       "       [9.99529243e-01, 4.70813451e-04],\n",
       "       [9.96417522e-01, 3.58244125e-03],\n",
       "       [3.77264231e-01, 6.22735739e-01],\n",
       "       [2.39240788e-02, 9.76075888e-01],\n",
       "       [1.68901175e-01, 8.31098855e-01],\n",
       "       [1.00000000e+00, 1.26975465e-21],\n",
       "       [7.00922217e-03, 9.92990732e-01],\n",
       "       [9.99992490e-01, 7.49756100e-06],\n",
       "       [1.00000000e+00, 7.76385622e-10],\n",
       "       [1.00000000e+00, 1.29876927e-08],\n",
       "       [5.19806594e-02, 9.48019326e-01],\n",
       "       [2.87908882e-01, 7.12091148e-01],\n",
       "       [2.54312903e-02, 9.74568725e-01],\n",
       "       [1.00000000e+00, 8.92926251e-17],\n",
       "       [9.99417186e-01, 5.82881679e-04],\n",
       "       [9.99263585e-01, 7.36447866e-04],\n",
       "       [6.47844911e-01, 3.52155119e-01],\n",
       "       [1.00000000e+00, 3.78257619e-13],\n",
       "       [1.00000000e+00, 5.41439810e-12],\n",
       "       [9.99998331e-01, 1.72648629e-06],\n",
       "       [9.91429508e-01, 8.57048482e-03],\n",
       "       [9.98344898e-01, 1.65513868e-03],\n",
       "       [1.00000000e+00, 4.82459050e-09],\n",
       "       [9.96827781e-01, 3.17224255e-03],\n",
       "       [1.00000000e+00, 2.23576879e-10],\n",
       "       [3.12140118e-02, 9.68785942e-01],\n",
       "       [1.00000000e+00, 5.12811640e-16],\n",
       "       [1.00000000e+00, 0.00000000e+00],\n",
       "       [3.21805716e-01, 6.78194284e-01],\n",
       "       [9.32455480e-01, 6.75445125e-02],\n",
       "       [5.19790590e-01, 4.80209470e-01],\n",
       "       [9.98566449e-01, 1.43358740e-03],\n",
       "       [1.19168796e-02, 9.88083065e-01],\n",
       "       [1.34699866e-01, 8.65300119e-01],\n",
       "       [9.24510002e-01, 7.54899904e-02],\n",
       "       [9.99999404e-01, 5.74502678e-07],\n",
       "       [1.74255762e-02, 9.82574403e-01],\n",
       "       [9.93008733e-01, 6.99130772e-03],\n",
       "       [1.00000000e+00, 1.64091685e-10],\n",
       "       [1.00000000e+00, 8.63363808e-12],\n",
       "       [9.91167367e-01, 8.83260649e-03],\n",
       "       [1.00000000e+00, 2.62920530e-09],\n",
       "       [1.00000000e+00, 2.65051602e-15],\n",
       "       [9.93177056e-01, 6.82288129e-03],\n",
       "       [1.00000000e+00, 1.99123912e-11],\n",
       "       [9.99992371e-01, 7.58024044e-06],\n",
       "       [1.00000000e+00, 1.70819678e-08],\n",
       "       [1.04464768e-02, 9.89553571e-01],\n",
       "       [1.14274383e-01, 8.85725617e-01],\n",
       "       [1.00000000e+00, 6.72078381e-30],\n",
       "       [4.23584402e-01, 5.76415539e-01],\n",
       "       [9.99580920e-01, 4.19131975e-04],\n",
       "       [6.10963665e-02, 9.38903630e-01],\n",
       "       [7.04717170e-03, 9.92952764e-01],\n",
       "       [2.06784382e-01, 7.93215632e-01],\n",
       "       [9.59544539e-01, 4.04554941e-02],\n",
       "       [1.00000000e+00, 5.77435967e-19],\n",
       "       [9.99149084e-01, 8.50895536e-04],\n",
       "       [1.00000000e+00, 2.85591917e-13],\n",
       "       [1.34320715e-02, 9.86567974e-01],\n",
       "       [4.55956645e-02, 9.54404354e-01],\n",
       "       [1.00000000e+00, 1.57414771e-12],\n",
       "       [5.08758947e-02, 9.49124157e-01],\n",
       "       [1.00000000e+00, 1.81348048e-10],\n",
       "       [9.99997735e-01, 2.22717290e-06],\n",
       "       [7.49499574e-02, 9.25050020e-01],\n",
       "       [2.13932410e-01, 7.86067545e-01],\n",
       "       [2.15412781e-01, 7.84587204e-01],\n",
       "       [1.00000000e+00, 1.34460953e-09],\n",
       "       [2.84537464e-01, 7.15462565e-01],\n",
       "       [1.00000000e+00, 1.31403397e-15],\n",
       "       [1.00000000e+00, 1.54964680e-10],\n",
       "       [9.73553717e-01, 2.64463332e-02],\n",
       "       [9.99874592e-01, 1.25411403e-04],\n",
       "       [4.11483012e-02, 9.58851695e-01],\n",
       "       [9.97308135e-01, 2.69182166e-03],\n",
       "       [9.99863148e-01, 1.36881339e-04],\n",
       "       [9.99711931e-01, 2.88041803e-04],\n",
       "       [9.82808292e-01, 1.71916541e-02],\n",
       "       [1.88115165e-01, 8.11884820e-01],\n",
       "       [5.96132576e-01, 4.03867394e-01],\n",
       "       [7.75721371e-01, 2.24278629e-01],\n",
       "       [9.99997973e-01, 2.02515298e-06],\n",
       "       [3.71752530e-02, 9.62824762e-01],\n",
       "       [1.50719490e-02, 9.84928071e-01],\n",
       "       [9.99940038e-01, 5.99626765e-05],\n",
       "       [3.27877402e-01, 6.72122598e-01],\n",
       "       [9.99999166e-01, 8.35010269e-07],\n",
       "       [9.92125452e-01, 7.87455309e-03],\n",
       "       [1.37191396e-02, 9.86280918e-01],\n",
       "       [7.67538249e-01, 2.32461780e-01],\n",
       "       [2.35012453e-02, 9.76498783e-01],\n",
       "       [9.99725640e-01, 2.74352380e-04],\n",
       "       [1.00000000e+00, 1.61924993e-32],\n",
       "       [9.95233476e-01, 4.76648705e-03],\n",
       "       [2.61637837e-01, 7.38362193e-01],\n",
       "       [1.00589924e-01, 8.99410069e-01],\n",
       "       [7.96059426e-03, 9.92039442e-01],\n",
       "       [1.62130311e-01, 8.37869704e-01],\n",
       "       [1.84657216e-01, 8.15342784e-01],\n",
       "       [9.91330028e-01, 8.66997615e-03],\n",
       "       [9.57868472e-02, 9.04213190e-01],\n",
       "       [1.00000000e+00, 2.21235166e-11],\n",
       "       [9.95828211e-02, 9.00417209e-01],\n",
       "       [6.42573416e-01, 3.57426554e-01],\n",
       "       [9.81413603e-01, 1.85863841e-02],\n",
       "       [7.36396015e-01, 2.63604045e-01],\n",
       "       [1.88787162e-01, 8.11212778e-01],\n",
       "       [9.99638915e-01, 3.61105718e-04],\n",
       "       [4.52769455e-03, 9.95472312e-01],\n",
       "       [2.75607593e-02, 9.72439229e-01],\n",
       "       [2.86037892e-01, 7.13962138e-01],\n",
       "       [1.14849694e-01, 8.85150254e-01],\n",
       "       [1.00000000e+00, 3.49296592e-08],\n",
       "       [1.00000000e+00, 7.70620456e-09],\n",
       "       [8.75770330e-01, 1.24229737e-01],\n",
       "       [7.14931011e-01, 2.85068989e-01],\n",
       "       [3.95797938e-01, 6.04202032e-01],\n",
       "       [5.39358371e-05, 9.99946117e-01],\n",
       "       [8.39839876e-03, 9.91601527e-01]], dtype=float32)"
      ]
     },
     "execution_count": 52,
     "metadata": {},
     "output_type": "execute_result"
    }
   ],
   "source": [
    "kq = model.predict(X_test)\n",
    "kq"
   ]
  },
  {
   "cell_type": "code",
   "execution_count": 53,
   "metadata": {},
   "outputs": [
    {
     "data": {
      "text/plain": [
       "array([0, 1, 0, 1, 1, 1, 1, 0, 0, 1, 1, 0, 1, 1, 0, 0, 1, 1, 0, 0, 0, 0,\n",
       "       0, 0, 0, 1, 0, 1, 0, 1, 0, 0, 0, 0, 1, 1, 1, 0, 1, 0, 1, 1, 1, 1,\n",
       "       1, 1, 0, 0, 0, 1, 0, 1, 1, 1, 0, 0, 1, 0, 0, 1, 1, 0, 0, 1, 0, 0,\n",
       "       0, 1, 1, 0, 1, 1, 0, 1, 1, 1, 1, 0, 1, 1, 0, 1, 0, 0, 1, 0, 0, 0,\n",
       "       1, 0, 1, 1, 1, 0, 1, 0, 1, 1, 0, 1, 1, 0, 1, 0, 0, 1, 0, 0, 0, 0,\n",
       "       0, 0, 0, 0, 1, 0, 0, 1, 0, 1, 0, 0, 1, 1, 1, 0, 0, 0, 1, 0, 0, 0,\n",
       "       0, 0, 0, 1, 0, 1, 0, 1, 0, 0, 0, 0, 0, 0, 0, 0, 0, 1, 1, 1, 0, 0,\n",
       "       0, 0, 1, 1, 0, 0, 0, 1, 0, 0, 1, 1, 1, 0, 1, 1, 0, 1, 0, 0, 0, 0,\n",
       "       1, 1, 0, 1, 1, 0, 1, 0, 1, 1, 1, 0, 0, 0, 1, 1, 1, 0, 1, 1, 1, 0,\n",
       "       0, 0, 0, 0, 1, 1, 1, 0, 1, 0, 0, 0, 1, 1, 1, 0, 0, 0, 0, 0, 0, 0,\n",
       "       0, 0, 0, 0, 0, 1, 0, 0, 1, 0, 0, 0, 1, 1, 0, 0, 1, 0, 0, 0, 0, 0,\n",
       "       0, 0, 0, 0, 0, 1, 1, 0, 1, 0, 1, 1, 1, 0, 0, 0, 0, 1, 1, 0, 1, 0,\n",
       "       0, 1, 1, 1, 0, 1, 0, 0, 0, 0, 1, 0, 0, 0, 0, 1, 0, 0, 0, 1, 1, 0,\n",
       "       1, 0, 0, 1, 0, 1, 0, 0, 0, 1, 1, 1, 1, 1, 0, 1, 0, 1, 0, 0, 0, 1,\n",
       "       0, 1, 1, 1, 1, 0, 0, 0, 0, 1, 1, 1])"
      ]
     },
     "execution_count": 53,
     "metadata": {},
     "output_type": "execute_result"
    }
   ],
   "source": [
    "resS = np.argmax(kq, axis=-1)\n",
    "resS"
   ]
  },
  {
   "cell_type": "code",
   "execution_count": 54,
   "metadata": {},
   "outputs": [
    {
     "name": "stdout",
     "output_type": "stream",
     "text": [
      "              precision    recall  f1-score   support\n",
      "\n",
      "           0       0.79      0.89      0.84       162\n",
      "           1       0.87      0.76      0.81       158\n",
      "\n",
      "    accuracy                           0.82       320\n",
      "   macro avg       0.83      0.82      0.82       320\n",
      "weighted avg       0.83      0.82      0.82       320\n",
      "\n"
     ]
    }
   ],
   "source": [
    "print(classification_report(y_tt, resS, target_names=['0', '1']))"
   ]
  },
  {
   "cell_type": "code",
   "execution_count": 66,
   "metadata": {},
   "outputs": [],
   "source": [
    "im = cv2.imread(\"/home/giang/Pictures/anhtest4.png\", 1)"
   ]
  },
  {
   "cell_type": "code",
   "execution_count": 75,
   "metadata": {},
   "outputs": [
    {
     "data": {
      "image/png": "[encoded data removed]",
      "text/plain": [
       "<Figure size 432x288 with 1 Axes>"
      ]
     },
     "metadata": {
      "needs_background": "light"
     },
     "output_type": "display_data"
    }
   ],
   "source": [
    "im_gray = cv2.cvtColor(im,cv2.COLOR_BGR2GRAY)\n",
    "\n",
    "noise_removal = cv2.bilateralFilter(im_gray,9,75,75)\n",
    "\n",
    "equal_histogram = cv2.equalizeHist(noise_removal)\n",
    "kernel = cv2.getStructuringElement(cv2.MORPH_RECT,(5,5))\n",
    "morph_image = cv2.morphologyEx(equal_histogram,cv2.MORPH_OPEN,kernel,iterations=20)\n",
    "\n",
    "sub_morp_image = cv2.subtract(equal_histogram,morph_image)\n",
    "ret,thresh_image = cv2.threshold(sub_morp_image,0,255,cv2.THRESH_OTSU)\n",
    "\n",
    "canny_image = cv2.Canny(thresh_image,250,255)\n",
    "kernel = np.ones((3,3), np.uint8)\n",
    "dilated_image = cv2.dilate(canny_image,kernel,iterations=1)\n",
    "plt.imshow(cv2.cvtColor(dilated_image,cv2.COLOR_BGR2RGB))\n",
    "plt.show()"
   ]
  },
  {
   "cell_type": "code",
   "execution_count": 70,
   "metadata": {},
   "outputs": [
    {
     "name": "stdout",
     "output_type": "stream",
     "text": [
      "anh co chua ban do\n"
     ]
    }
   ],
   "source": [
    "contours, hierarchy = cv2.findContours(dilated_image, cv2.RETR_TREE, cv2.CHAIN_APPROX_SIMPLE)\n",
    "\n",
    "contours= sorted(contours, key = cv2.contourArea, reverse = True)\n",
    "screenCnt = None\n",
    "roi_img = []\n",
    "check = 0\n",
    "for c in contours:\n",
    "    peri = cv2.arcLength(c, True) \n",
    "\n",
    "    approx = cv2.approxPolyDP(c, 0.06 * peri, True) \n",
    "    if len(approx) == 4:\n",
    "        screenCnt = approx\n",
    "        (x,y,w,h) = cv2.boundingRect(screenCnt)\n",
    "        roi = im[y:y+h,x:x+w]\n",
    "        roi_img.append(roi)\n",
    "#         plt.imshow(cv2.cvtColor(roi,cv2.COLOR_BGR2RGB))\n",
    "#         plt.show()\n",
    "        roi = cv2.cvtColor(roi, cv2.COLOR_BGR2GRAY)\n",
    "        X_test__ = cv2.resize(roi, (28, 28))\n",
    "        y_predict = model.predict(X_test__.reshape(1,28,28,1))\n",
    "#         print(\" y predict\", y_predict)\n",
    "        test_logits = np.argmax(y_predict, axis=-1)\n",
    "        res__ = results[int(test_logits)]\n",
    "\n",
    "        if(res__ == '1'):\n",
    "            check = 1\n",
    "#             print(\"anh co chua 22 ban do\")\n",
    "            break\n",
    "\n",
    "# print(check)\n",
    "if(check == 1):\n",
    "    print(\"anh co chua ban do\")\n",
    "else:\n",
    "    print(\"anh khong chua ban do\")"
   ]
  },
  {
   "cell_type": "code",
   "execution_count": null,
   "metadata": {},
   "outputs": [],
   "source": []
  },
  {
   "cell_type": "code",
   "execution_count": null,
   "metadata": {},
   "outputs": [],
   "source": []
  }
 ],
 "metadata": {
  "kernelspec": {
   "display_name": "Python 3.8.2 64-bit",
   "language": "python",
   "name": "python38264bita6f50e50d0ae43c9b91bb5633cee2fdb"
  },
  "language_info": {
   "codemirror_mode": {
    "name": "ipython",
    "version": 3
   },
   "file_extension": ".py",
   "mimetype": "text/x-python",
   "name": "python",
   "nbconvert_exporter": "python",
   "pygments_lexer": "ipython3",
   "version": "3.8.2"
  }
 },
 "nbformat": 4,
 "nbformat_minor": 4
}
