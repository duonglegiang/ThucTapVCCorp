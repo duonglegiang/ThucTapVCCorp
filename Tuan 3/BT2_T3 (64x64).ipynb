{
 "cells": [
  {
   "cell_type": "code",
   "execution_count": 1,
   "metadata": {},
   "outputs": [],
   "source": [
    "import numpy as np\n",
    "import pandas as pd\n",
    "from sklearn.model_selection import *\n",
    "from sklearn import *\n",
    "import matplotlib as mpl\n",
    "import matplotlib.pyplot as plt\n",
    "import seaborn as sns\n",
    "from sklearn.preprocessing import StandardScaler\n",
    "from sklearn.decomposition import PCA\n",
    "from sklearn.linear_model import LogisticRegression\n",
    "from sklearn.pipeline import Pipeline\n",
    "from sklearn.preprocessing import *\n",
    "from sklearn import *\n",
    "from sklearn.metrics import *\n",
    "# from mnist import *\n",
    "from pandas import *\n",
    "from datetime import date\n",
    "from collections import namedtuple\n",
    "import cv2\n",
    "from sklearn.feature_extraction.text import *\n",
    "from sklearn.naive_bayes import *\n",
    "from sklearn.metrics import *\n",
    "from scipy import *\n",
    "from sklearn.metrics import confusion_matrix\n",
    "import itertools\n",
    "import os\n",
    "from keras.utils.np_utils import * \n",
    "from keras.models import *\n",
    "from keras.layers import *\n",
    "from keras.optimizers import *\n",
    "from keras.preprocessing.image import *\n",
    "from keras.callbacks import *\n",
    "from skimage.filters import threshold_local\n",
    "from tensorflow.keras import *\n",
    "from tensorflow.keras.layers import *\n",
    "\n",
    "import tensorflow as tf"
   ]
  },
  {
   "cell_type": "code",
   "execution_count": 2,
   "metadata": {},
   "outputs": [],
   "source": [
    "homePath_train = \"data/\""
   ]
  },
  {
   "cell_type": "code",
   "execution_count": 3,
   "metadata": {},
   "outputs": [
    {
     "data": {
      "text/plain": [
       "['0', '1']"
      ]
     },
     "execution_count": 3,
     "metadata": {},
     "output_type": "execute_result"
    }
   ],
   "source": [
    "chars = ['0', '1']\n",
    "chars"
   ]
  },
  {
   "cell_type": "code",
   "execution_count": 4,
   "metadata": {},
   "outputs": [],
   "source": [
    "# ham xu li du lieu\n",
    "def preprocessdata(homePath):\n",
    "    data=[]\n",
    "    label=[]\n",
    "    \n",
    "    for i,char in enumerate(chars):\n",
    "        imgPath = homePath + char + \"/\"\n",
    "        print(imgPath)\n",
    "        imgFiles = os.listdir(imgPath)\n",
    "#         kk = 0\n",
    "        for image in imgFiles:\n",
    "                \n",
    "            img = cv2.imread(imgPath + image,1)\n",
    "            img = cv2.resize(img, (64, 64))\n",
    "            \n",
    "#             print(img.shape)\n",
    "#             noise_removal = cv2.bilateralFilter(img,9,75,75)\n",
    "\n",
    "#             equal_histogram = cv2.equalizeHist(noise_removal)\n",
    "#             img_pad = np.zeros([28, 28])\n",
    "#             img_pad[6:26, 3:23] = img\n",
    "            data.append(img)\n",
    "            label.append(i)\n",
    "    \n",
    "    l = len(label)\n",
    "    shutfle = list(range(l))\n",
    "    random.shuffle(shutfle)\n",
    "    train_data = np.array(data)\n",
    "    train_label = np.array(label)\n",
    "    train_data = train_data[shutfle]\n",
    "    train_label = train_label[shutfle]\n",
    "    return data,label"
   ]
  },
  {
   "cell_type": "code",
   "execution_count": 5,
   "metadata": {},
   "outputs": [
    {
     "name": "stdout",
     "output_type": "stream",
     "text": [
      "data/0/\n",
      "data/1/\n"
     ]
    }
   ],
   "source": [
    "data,label = preprocessdata(homePath_train)"
   ]
  },
  {
   "cell_type": "code",
   "execution_count": 6,
   "metadata": {},
   "outputs": [],
   "source": [
    "x = data\n",
    "y = label"
   ]
  },
  {
   "cell_type": "code",
   "execution_count": 7,
   "metadata": {},
   "outputs": [],
   "source": [
    "X_train, X_test, y_train, y_test = train_test_split(x, y, test_size=0.3, random_state=42)\n",
    "y_tt = y_test"
   ]
  },
  {
   "cell_type": "code",
   "execution_count": 8,
   "metadata": {},
   "outputs": [
    {
     "name": "stderr",
     "output_type": "stream",
     "text": [
      "<ipython-input-8-9eb425823adf>:1: DeprecationWarning: scipy.reshape is deprecated and will be removed in SciPy 2.0.0, use numpy.reshape instead\n",
      "  X_train = reshape(X_train,(-1,64,64,3))\n",
      "<ipython-input-8-9eb425823adf>:3: DeprecationWarning: scipy.reshape is deprecated and will be removed in SciPy 2.0.0, use numpy.reshape instead\n",
      "  X_test = reshape(X_test,(-1,64,64,3))\n"
     ]
    }
   ],
   "source": [
    "X_train = reshape(X_train,(-1,64,64,3))\n",
    "y_train = to_categorical(y_train, num_classes = 2)\n",
    "X_test = reshape(X_test,(-1,64,64,3))\n",
    "y_test = to_categorical(y_test, num_classes = 2)"
   ]
  },
  {
   "cell_type": "code",
   "execution_count": 9,
   "metadata": {
    "scrolled": true
   },
   "outputs": [],
   "source": [
    "model = Sequential()\n",
    "\n",
    "model.add(Conv2D(32, (3, 3), activation='relu', input_shape=(64,64,3)))\n",
    "model.add(Conv2D(32, (3, 3), activation='relu'))\n",
    "model.add(MaxPooling2D(pool_size=(2,2)))\n",
    "model.add(Dropout(0.2))\n",
    "\n",
    "model.add(Conv2D(64, (3, 3), activation='relu'))\n",
    "model.add(Conv2D(64, (3, 3), activation='relu'))\n",
    "model.add(MaxPooling2D(pool_size=(2,2)))\n",
    "model.add(Dropout(0.2))\n",
    "\n",
    "model.add(Conv2D(128, (3, 3), activation='relu'))\n",
    "model.add(Conv2D(128, (3, 3), activation='relu'))\n",
    "model.add(MaxPooling2D(pool_size=(2,2)))\n",
    "model.add(Dropout(0.2))\n",
    "\n",
    "model.add(Flatten())\n",
    "model.add(Dense(64, activation='relu'))\n",
    "# model.add(Dropout(0.3))\n",
    "model.add(Dense(128, activation='relu'))\n",
    "# model.add(Dropout(0.3))\n",
    "model.add(Dense(256, activation='relu')\n",
    "          \n",
    "model.add(Dense(2, activation='softmax'))\n",
    "model.compile(loss='categorical_crossentropy',\n",
    "                    optimizer='adam',\n",
    "                    metrics=['accuracy'])\n",
    "# model.summary()\n",
    "# res = model.fit(X_train, y_train, validation_split=0.2,shuffle=True,\n",
    "#                  batch_size=32, epochs=100, verbose=1)\n",
    "\n",
    "# model.save(\"b2_t3_moi2.h5\")\n",
    "# 200 epoch: 93.55\n",
    "# model = load_model(\"bt2_t3_200epochs.h5\") \n",
    "# model = load_model(\"b2_t3_moi.h5\") "
   ]
  },
  {
   "cell_type": "code",
   "execution_count": 17,
   "metadata": {},
   "outputs": [
    {
     "name": "stdout",
     "output_type": "stream",
     "text": [
      "Model: \"sequential\"\n",
      "_________________________________________________________________\n",
      "Layer (type)                 Output Shape              Param #   \n",
      "=================================================================\n",
      "conv2d (Conv2D)              (None, 62, 62, 32)        896       \n",
      "_________________________________________________________________\n",
      "conv2d_1 (Conv2D)            (None, 60, 60, 32)        9248      \n",
      "_________________________________________________________________\n",
      "max_pooling2d (MaxPooling2D) (None, 30, 30, 32)        0         \n",
      "_________________________________________________________________\n",
      "dropout (Dropout)            (None, 30, 30, 32)        0         \n",
      "_________________________________________________________________\n",
      "conv2d_2 (Conv2D)            (None, 28, 28, 64)        18496     \n",
      "_________________________________________________________________\n",
      "conv2d_3 (Conv2D)            (None, 26, 26, 64)        36928     \n",
      "_________________________________________________________________\n",
      "max_pooling2d_1 (MaxPooling2 (None, 13, 13, 64)        0         \n",
      "_________________________________________________________________\n",
      "dropout_1 (Dropout)          (None, 13, 13, 64)        0         \n",
      "_________________________________________________________________\n",
      "conv2d_4 (Conv2D)            (None, 11, 11, 128)       73856     \n",
      "_________________________________________________________________\n",
      "conv2d_5 (Conv2D)            (None, 9, 9, 128)         147584    \n",
      "_________________________________________________________________\n",
      "max_pooling2d_2 (MaxPooling2 (None, 4, 4, 128)         0         \n",
      "_________________________________________________________________\n",
      "dropout_2 (Dropout)          (None, 4, 4, 128)         0         \n",
      "_________________________________________________________________\n",
      "flatten (Flatten)            (None, 2048)              0         \n",
      "_________________________________________________________________\n",
      "dense (Dense)                (None, 64)                131136    \n",
      "_________________________________________________________________\n",
      "dense_1 (Dense)              (None, 128)               8320      \n",
      "_________________________________________________________________\n",
      "dense_2 (Dense)              (None, 256)               33024     \n",
      "_________________________________________________________________\n",
      "dense_3 (Dense)              (None, 2)                 514       \n",
      "=================================================================\n",
      "Total params: 460,002\n",
      "Trainable params: 460,002\n",
      "Non-trainable params: 0\n",
      "_________________________________________________________________\n"
     ]
    }
   ],
   "source": [
    "# model.save(\"server94.h5\")\n",
    "model = load_model(\"server94.h5\")\n",
    "model.summary()"
   ]
  },
  {
   "cell_type": "code",
   "execution_count": 11,
   "metadata": {},
   "outputs": [
    {
     "data": {
      "text/plain": [
       "[0.3499642014503479, 0.9366438388824463]"
      ]
     },
     "execution_count": 11,
     "metadata": {},
     "output_type": "execute_result"
    }
   ],
   "source": [
    "score = model.evaluate(X_test, y_test, verbose=0)\n",
    "score"
   ]
  },
  {
   "cell_type": "code",
   "execution_count": 12,
   "metadata": {},
   "outputs": [],
   "source": [
    "results = chars.copy()"
   ]
  },
  {
   "cell_type": "code",
   "execution_count": 13,
   "metadata": {},
   "outputs": [
    {
     "ename": "error",
     "evalue": "OpenCV(4.3.0) /io/opencv/modules/imgproc/src/resize.cpp:3929: error: (-215:Assertion failed) !ssize.empty() in function 'resize'\n",
     "output_type": "error",
     "traceback": [
      "\u001b[0;31m---------------------------------------------------------------------------\u001b[0m",
      "\u001b[0;31merror\u001b[0m                                     Traceback (most recent call last)",
      "\u001b[0;32m<ipython-input-13-3af10fa038e3>\u001b[0m in \u001b[0;36m<module>\u001b[0;34m\u001b[0m\n\u001b[1;32m      3\u001b[0m \u001b[0;34m\u001b[0m\u001b[0m\n\u001b[1;32m      4\u001b[0m \u001b[0mimg_\u001b[0m \u001b[0;34m=\u001b[0m \u001b[0mcv2\u001b[0m\u001b[0;34m.\u001b[0m\u001b[0mimread\u001b[0m\u001b[0;34m(\u001b[0m\u001b[0;34m\"/home/giang/Pictures/anhtest1000.jpg\"\u001b[0m\u001b[0;34m,\u001b[0m \u001b[0;36m0\u001b[0m\u001b[0;34m)\u001b[0m\u001b[0;34m\u001b[0m\u001b[0;34m\u001b[0m\u001b[0m\n\u001b[0;32m----> 5\u001b[0;31m \u001b[0mX_test__\u001b[0m \u001b[0;34m=\u001b[0m \u001b[0mcv2\u001b[0m\u001b[0;34m.\u001b[0m\u001b[0mresize\u001b[0m\u001b[0;34m(\u001b[0m\u001b[0mimg_\u001b[0m\u001b[0;34m,\u001b[0m \u001b[0;34m(\u001b[0m\u001b[0;36m28\u001b[0m\u001b[0;34m,\u001b[0m \u001b[0;36m28\u001b[0m\u001b[0;34m)\u001b[0m\u001b[0;34m)\u001b[0m\u001b[0;34m\u001b[0m\u001b[0;34m\u001b[0m\u001b[0m\n\u001b[0m",
      "\u001b[0;31merror\u001b[0m: OpenCV(4.3.0) /io/opencv/modules/imgproc/src/resize.cpp:3929: error: (-215:Assertion failed) !ssize.empty() in function 'resize'\n"
     ]
    }
   ],
   "source": [
    "# model = Sequential()\n",
    "# model = create_model()\n",
    "\n",
    "img_ = cv2.imread(\"/home/giang/Pictures/anhtest1000.jpg\", 0)\n",
    "X_test__ = cv2.resize(img_, (28, 28))"
   ]
  },
  {
   "cell_type": "code",
   "execution_count": null,
   "metadata": {},
   "outputs": [],
   "source": [
    "y_predict = model.predict(X_test__.reshape(1,28,28,1))\n",
    "test_logits = np.argmax(y_predict, axis=-1)\n",
    "res__ = results[int(test_logits)]\n",
    "res__"
   ]
  },
  {
   "cell_type": "code",
   "execution_count": 14,
   "metadata": {},
   "outputs": [
    {
     "data": {
      "text/plain": [
       "array([[1.8745257e-10, 1.0000000e+00],\n",
       "       [9.9165535e-01, 8.3445916e-03],\n",
       "       [9.9996924e-01, 3.0810341e-05],\n",
       "       ...,\n",
       "       [9.9999952e-01, 5.1229659e-07],\n",
       "       [1.0000000e+00, 1.4884827e-10],\n",
       "       [1.1711596e-05, 9.9998832e-01]], dtype=float32)"
      ]
     },
     "execution_count": 14,
     "metadata": {},
     "output_type": "execute_result"
    }
   ],
   "source": [
    "kq = model.predict(X_test)\n",
    "kq"
   ]
  },
  {
   "cell_type": "code",
   "execution_count": 15,
   "metadata": {},
   "outputs": [
    {
     "data": {
      "text/plain": [
       "array([1, 0, 0, ..., 0, 0, 1])"
      ]
     },
     "execution_count": 15,
     "metadata": {},
     "output_type": "execute_result"
    }
   ],
   "source": [
    "resS = np.argmax(kq, axis=-1)\n",
    "resS"
   ]
  },
  {
   "cell_type": "code",
   "execution_count": 16,
   "metadata": {},
   "outputs": [
    {
     "name": "stdout",
     "output_type": "stream",
     "text": [
      "              precision    recall  f1-score   support\n",
      "\n",
      "           0       0.91      0.97      0.94      2342\n",
      "           1       0.97      0.90      0.93      2330\n",
      "\n",
      "    accuracy                           0.94      4672\n",
      "   macro avg       0.94      0.94      0.94      4672\n",
      "weighted avg       0.94      0.94      0.94      4672\n",
      "\n"
     ]
    }
   ],
   "source": [
    "print(classification_report(y_tt, resS, target_names=['0', '1']))"
   ]
  },
  {
   "cell_type": "code",
   "execution_count": null,
   "metadata": {},
   "outputs": [],
   "source": [
    "# dau vao la duong dan cua anh (path)\n",
    "# dau ra la ket qua phan loai ( co ban do hay khong )\n",
    "def PrintResult(path):\n",
    "    im_ = cv2.imread(path, 0)\n",
    "    \n",
    "    X_test__ = cv2.resize(im_, (28, 28))\n",
    "    y_predict = model.predict(X_test__.reshape(1,28,28,1))\n",
    "            \n",
    "    test_logits = np.argmax(y_predict, axis=-1)\n",
    "    if test_logits == 1:\n",
    "        return 1\n",
    "    \n",
    "    im = cv2.imread(path, 1)\n",
    "#     im = cv2.resize(im, (500, 500))\n",
    "    im_gray = cv2.cvtColor(im,cv2.COLOR_BGR2GRAY)\n",
    "\n",
    "    noise_removal = cv2.bilateralFilter(im_gray,9,75,75)\n",
    "\n",
    "    equal_histogram = cv2.equalizeHist(noise_removal)\n",
    "    kernel = cv2.getStructuringElement(cv2.MORPH_RECT,(5,5))\n",
    "    morph_image = cv2.morphologyEx(equal_histogram,cv2.MORPH_OPEN,kernel,iterations=20)\n",
    "\n",
    "    sub_morp_image = cv2.subtract(equal_histogram,morph_image)\n",
    "    ret,thresh_image = cv2.threshold(sub_morp_image,0,255,cv2.THRESH_OTSU)\n",
    "\n",
    "    canny_image = cv2.Canny(thresh_image,250,255)\n",
    "    kernel = np.ones((3,3), np.uint8)\n",
    "    dilated_image = cv2.dilate(canny_image,kernel,iterations=1)\n",
    "    dilated_image = cv2.bilateralFilter(dilated_image,9,75,75)\n",
    "#     plt.imshow(cv2.cvtColor(dilated_image,cv2.COLOR_BGR2RGB))\n",
    "#     plt.show()\n",
    "    contours, hierarchy = cv2.findContours(dilated_image, cv2.RETR_TREE, cv2.CHAIN_APPROX_SIMPLE)\n",
    "\n",
    "    contours= sorted(contours, key = cv2.contourArea, reverse = True)\n",
    "    screenCnt = None\n",
    "    roi_img = []\n",
    "    check = 0\n",
    "    for c in contours:\n",
    "        peri = cv2.arcLength(c, True) \n",
    "#         print(peri)\n",
    "        if(peri < 301):\n",
    "            continue\n",
    "        \n",
    "        approx = cv2.approxPolyDP(c, 0.06 * peri, True) \n",
    "#         if len(approx) == 4:\n",
    "        \n",
    "        \n",
    "        if check == 0:\n",
    "            screenCnt = approx\n",
    "            (x,y,w,h) = cv2.boundingRect(screenCnt)\n",
    "            roi = im[y:y+h,x:x+w]\n",
    "            roi_ccc = roi\n",
    "            roi_img.append(roi)\n",
    "#             plt.imshow(cv2.cvtColor(roi_ccc,cv2.COLOR_BGR2RGB))\n",
    "#             plt.show()\n",
    "  \n",
    "            roi = cv2.cvtColor(roi, cv2.COLOR_BGR2GRAY)\n",
    "        \n",
    "            if (roi.shape[0] < 20 or roi.shape[1] < 20):\n",
    "                continue\n",
    "                \n",
    "            X_test__ = cv2.resize(roi, (28, 28))\n",
    "            y_predict = model.predict(X_test__.reshape(1,28,28,1))\n",
    "            \n",
    "            test_logits = np.argmax(y_predict, axis=-1)\n",
    "                  \n",
    "            res__ = results[int(test_logits)]\n",
    "\n",
    "            if(res__ == '1'):\n",
    "                if y_predict[0][1] < 0.9:\n",
    "                    continue\n",
    "                check = 1\n",
    "#                 plt.imshow(cv2.cvtColor(roi_ccc,cv2.COLOR_BGR2RGB))\n",
    "#                 plt.show()\n",
    "                break\n",
    "\n",
    "    # print(check)\n",
    "    if(check == 1):\n",
    "#         print(\"anh co chua ban do\")\n",
    "        return 1\n",
    "    else:\n",
    "#         print(\"anh khong chua ban do\")\n",
    "        return 0\n",
    "        "
   ]
  },
  {
   "cell_type": "code",
   "execution_count": null,
   "metadata": {},
   "outputs": [],
   "source": [
    "PrintResult(\"/home/giang/Pictures/anhtest1000.jpg\")"
   ]
  },
  {
   "cell_type": "code",
   "execution_count": null,
   "metadata": {},
   "outputs": [],
   "source": [
    "chars_ = ['1']\n",
    "homePath_train = \"/home/giang/Downloads/Telegram Desktop/test/\"\n",
    "it = 0\n",
    "datas = []\n",
    "for i,char in enumerate(chars_):\n",
    "    imgPath = homePath_train + char + \"/\"\n",
    "    print(imgPath)\n",
    "    imgFiles = os.listdir(imgPath)\n",
    "#         kk = 0\n",
    "    print(len(imgFiles))\n",
    "    for image in imgFiles:\n",
    "        \n",
    "        img = cv2.imread(imgPath + image,0)\n",
    "        it += 1\n",
    "        dd = PrintResult(imgPath + image)\n",
    "        datas.append(dd)\n",
    "#         if dd == 0:\n",
    "#             print(imgPath + image)\n",
    "# print(it)"
   ]
  },
  {
   "cell_type": "code",
   "execution_count": null,
   "metadata": {},
   "outputs": [],
   "source": [
    "a = sum(datas)\n",
    "a"
   ]
  },
  {
   "cell_type": "code",
   "execution_count": null,
   "metadata": {},
   "outputs": [],
   "source": [
    "print(\"ti le dung la \", a/it)"
   ]
  },
  {
   "cell_type": "code",
   "execution_count": null,
   "metadata": {},
   "outputs": [],
   "source": [
    "chars_ = ['0']\n",
    "datas = []\n",
    "homePath_train = \"/home/giang/Downloads/Telegram Desktop/test/\"\n",
    "it = 0\n",
    "for i,char in enumerate(chars_):\n",
    "    imgPath = homePath_train + char + \"/\"\n",
    "    print(imgPath)\n",
    "    imgFiles = os.listdir(imgPath)\n",
    "#         kk = 0\n",
    "#     it = 0\n",
    "    print(len(imgFiles))\n",
    "    for image in imgFiles:\n",
    "   \n",
    "        img = cv2.imread(imgPath + image,0)\n",
    "        it += 1\n",
    "   \n",
    "#         img = cv2.resize(img, (28, 28))\n",
    "        it += 1\n",
    "        dd = PrintResult(imgPath + image)\n",
    "#         if(dd == 1):\n",
    "#             print(imgPath + image)\n",
    "            \n",
    "        datas.append(dd)\n",
    "#         label.append(i)"
   ]
  },
  {
   "cell_type": "code",
   "execution_count": null,
   "metadata": {
    "scrolled": true
   },
   "outputs": [],
   "source": [
    "a = sum(datas)\n",
    "a"
   ]
  },
  {
   "cell_type": "code",
   "execution_count": null,
   "metadata": {},
   "outputs": [],
   "source": [
    "# 2806/4428\n",
    "print(\"ti le dung la \", (223 - a)/223)"
   ]
  },
  {
   "cell_type": "code",
   "execution_count": null,
   "metadata": {},
   "outputs": [],
   "source": [
    "# dau vao la duong dan cua anh (path)\n",
    "# dau ra la ket qua phan loai ( co ban do hay khong )\n",
    "def PrintResult2(path):\n",
    "    im = cv2.imread(path, 1)\n",
    "    im = cv2.resize(im, (500, 500))\n",
    "    plt.imshow(cv2.cvtColor(im,cv2.COLOR_BGR2RGB))\n",
    "    plt.show()\n",
    "    im_gray = cv2.cvtColor(im,cv2.COLOR_BGR2GRAY)\n",
    "\n",
    "    noise_removal = cv2.bilateralFilter(im_gray,9,75,75)\n",
    "\n",
    "    equal_histogram = cv2.equalizeHist(noise_removal)\n",
    "    kernel = cv2.getStructuringElement(cv2.MORPH_RECT,(5,5))\n",
    "    morph_image = cv2.morphologyEx(equal_histogram,cv2.MORPH_OPEN,kernel,iterations=20)\n",
    "\n",
    "    sub_morp_image = cv2.subtract(equal_histogram,morph_image)\n",
    "    ret,thresh_image = cv2.threshold(sub_morp_image,0,255,cv2.THRESH_OTSU)\n",
    "\n",
    "    canny_image = cv2.Canny(thresh_image,250,255)\n",
    "    kernel = np.ones((3,3), np.uint8)\n",
    "    dilated_image = cv2.dilate(canny_image,kernel,iterations=1)\n",
    "    plt.imshow(cv2.cvtColor(dilated_image,cv2.COLOR_BGR2RGB))\n",
    "    plt.show()\n",
    "    contours, hierarchy = cv2.findContours(dilated_image, cv2.RETR_TREE, cv2.CHAIN_APPROX_SIMPLE)\n",
    "\n",
    "    contours= sorted(contours, key = cv2.contourArea, reverse = True)\n",
    "    screenCnt = None\n",
    "    roi_img = []\n",
    "    check = 0\n",
    "    for c in contours:\n",
    "        peri = cv2.arcLength(c, True) \n",
    "        print(peri)\n",
    "        if(peri < 301):\n",
    "            continue\n",
    "        \n",
    "        approx = cv2.approxPolyDP(c, 0.06 * peri, True) \n",
    "        \n",
    "#         if len(approx) == 4:\n",
    "        if check == 0:\n",
    "            screenCnt = approx\n",
    "            (x,y,w,h) = cv2.boundingRect(screenCnt)\n",
    "            roi = im[y:y+h,x:x+w]\n",
    "            roi_ccc = roi\n",
    "            roi_img.append(roi)\n",
    "            plt.imshow(cv2.cvtColor(roi_ccc,cv2.COLOR_BGR2RGB))\n",
    "            plt.show()\n",
    "    #         plt.imshow(cv2.cvtColor(roi,cv2.COLOR_BGR2RGB))\n",
    "    #         plt.show()\n",
    "            roi = cv2.cvtColor(roi, cv2.COLOR_BGR2GRAY)\n",
    "#             print(\"roi la \", roi.shape)\n",
    "            if (roi.shape[0] < 20 or roi.shape[1] < 20):\n",
    "                continue\n",
    "            X_test__ = cv2.resize(roi, (28, 28))\n",
    "            y_predict = model.predict(X_test__.reshape(1,28,28,1))\n",
    "            print(\" y predict\", y_predict)\n",
    "            test_logits = np.argmax(y_predict, axis=-1)\n",
    "                \n",
    "            res__ = results[int(test_logits)]\n",
    "\n",
    "            if(res__ == '1'):\n",
    "                if y_predict[0][1] < 0.9:\n",
    "                    continue\n",
    "                    \n",
    "                check = 1\n",
    "#                 plt.imshow(cv2.cvtColor(roi_ccc,cv2.COLOR_BGR2RGB))\n",
    "#                 plt.show()\n",
    "                break\n",
    "\n",
    "    # print(check)\n",
    "    if(check == 1):\n",
    "#         print(\"anh co chua ban do\")\n",
    "        return 1\n",
    "    else:\n",
    "#         print(\"anh khong chua ban do\")\n",
    "        return 0\n",
    "        "
   ]
  },
  {
   "cell_type": "code",
   "execution_count": null,
   "metadata": {},
   "outputs": [],
   "source": [
    "PrintResult2(\"/home/giang/Downloads/Telegram Desktop/data_test/1/pic - 2020-07-29T152826.594.jpg\")"
   ]
  },
  {
   "cell_type": "code",
   "execution_count": null,
   "metadata": {},
   "outputs": [],
   "source": []
  },
  {
   "cell_type": "code",
   "execution_count": null,
   "metadata": {},
   "outputs": [],
   "source": []
  },
  {
   "cell_type": "code",
   "execution_count": null,
   "metadata": {},
   "outputs": [],
   "source": []
  }
 ],
 "metadata": {
  "kernelspec": {
   "display_name": "Python 3",
   "language": "python",
   "name": "python3"
  },
  "language_info": {
   "codemirror_mode": {
    "name": "ipython",
    "version": 3
   },
   "file_extension": ".py",
   "mimetype": "text/x-python",
   "name": "python",
   "nbconvert_exporter": "python",
   "pygments_lexer": "ipython3",
   "version": "3.8.3"
  }
 },
 "nbformat": 4,
 "nbformat_minor": 4
}
